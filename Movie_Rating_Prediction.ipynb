{
  "cells": [
    {
      "cell_type": "markdown",
      "metadata": {
        "id": "Cw2_vXds21aM"
      },
      "source": [
        "Import All Required Laibraries\n"
      ]
    },
    {
      "cell_type": "code",
      "execution_count": 1,
      "metadata": {
        "id": "PujGO5qR2_Ww"
      },
      "outputs": [],
      "source": [
        "import numpy as np\n",
        "import plotly.express as px\n",
        "import matplotlib.pyplot as plt\n",
        "import seaborn as sns"
      ]
    },
    {
      "cell_type": "markdown",
      "metadata": {
        "id": "ndZSUoCu43Ey"
      },
      "source": [
        "Data Collection and Processing"
      ]
    },
    {
      "cell_type": "code",
      "execution_count": 2,
      "metadata": {
        "id": "xTD5-Nnn5fCq"
      },
      "outputs": [],
      "source": [
        "#load data from csv file to pandas dataframe\n",
        "import pandas as pd\n",
        "movie_data = pd.read_csv('C:\\\\Users\\\\bhakt\\\\Desktop\\\\Codsoft tasks\\\\IMDb Movies India.csv', encoding='latin1')"
      ]
    },
    {
      "cell_type": "code",
      "execution_count": 3,
      "metadata": {
        "colab": {
          "base_uri": "https://localhost:8080/",
          "height": 623
        },
        "id": "RsmsswHW9D5_",
        "outputId": "6631b6f0-1aa8-477c-fbd8-66464015e746"
      },
      "outputs": [
        {
          "data": {
            "text/html": [
              "<div>\n",
              "<style scoped>\n",
              "    .dataframe tbody tr th:only-of-type {\n",
              "        vertical-align: middle;\n",
              "    }\n",
              "\n",
              "    .dataframe tbody tr th {\n",
              "        vertical-align: top;\n",
              "    }\n",
              "\n",
              "    .dataframe thead th {\n",
              "        text-align: right;\n",
              "    }\n",
              "</style>\n",
              "<table border=\"1\" class=\"dataframe\">\n",
              "  <thead>\n",
              "    <tr style=\"text-align: right;\">\n",
              "      <th></th>\n",
              "      <th>Name</th>\n",
              "      <th>Year</th>\n",
              "      <th>Duration</th>\n",
              "      <th>Genre</th>\n",
              "      <th>Rating</th>\n",
              "      <th>Votes</th>\n",
              "      <th>Director</th>\n",
              "      <th>Actor 1</th>\n",
              "      <th>Actor 2</th>\n",
              "      <th>Actor 3</th>\n",
              "    </tr>\n",
              "  </thead>\n",
              "  <tbody>\n",
              "    <tr>\n",
              "      <th>0</th>\n",
              "      <td></td>\n",
              "      <td>NaN</td>\n",
              "      <td>NaN</td>\n",
              "      <td>Drama</td>\n",
              "      <td>NaN</td>\n",
              "      <td>NaN</td>\n",
              "      <td>J.S. Randhawa</td>\n",
              "      <td>Manmauji</td>\n",
              "      <td>Birbal</td>\n",
              "      <td>Rajendra Bhatia</td>\n",
              "    </tr>\n",
              "    <tr>\n",
              "      <th>1</th>\n",
              "      <td>#Gadhvi (He thought he was Gandhi)</td>\n",
              "      <td>(2019)</td>\n",
              "      <td>109 min</td>\n",
              "      <td>Drama</td>\n",
              "      <td>7.0</td>\n",
              "      <td>8</td>\n",
              "      <td>Gaurav Bakshi</td>\n",
              "      <td>Rasika Dugal</td>\n",
              "      <td>Vivek Ghamande</td>\n",
              "      <td>Arvind Jangid</td>\n",
              "    </tr>\n",
              "    <tr>\n",
              "      <th>2</th>\n",
              "      <td>#Homecoming</td>\n",
              "      <td>(2021)</td>\n",
              "      <td>90 min</td>\n",
              "      <td>Drama, Musical</td>\n",
              "      <td>NaN</td>\n",
              "      <td>NaN</td>\n",
              "      <td>Soumyajit Majumdar</td>\n",
              "      <td>Sayani Gupta</td>\n",
              "      <td>Plabita Borthakur</td>\n",
              "      <td>Roy Angana</td>\n",
              "    </tr>\n",
              "    <tr>\n",
              "      <th>3</th>\n",
              "      <td>#Yaaram</td>\n",
              "      <td>(2019)</td>\n",
              "      <td>110 min</td>\n",
              "      <td>Comedy, Romance</td>\n",
              "      <td>4.4</td>\n",
              "      <td>35</td>\n",
              "      <td>Ovais Khan</td>\n",
              "      <td>Prateik</td>\n",
              "      <td>Ishita Raj</td>\n",
              "      <td>Siddhant Kapoor</td>\n",
              "    </tr>\n",
              "    <tr>\n",
              "      <th>4</th>\n",
              "      <td>...And Once Again</td>\n",
              "      <td>(2010)</td>\n",
              "      <td>105 min</td>\n",
              "      <td>Drama</td>\n",
              "      <td>NaN</td>\n",
              "      <td>NaN</td>\n",
              "      <td>Amol Palekar</td>\n",
              "      <td>Rajat Kapoor</td>\n",
              "      <td>Rituparna Sengupta</td>\n",
              "      <td>Antara Mali</td>\n",
              "    </tr>\n",
              "    <tr>\n",
              "      <th>5</th>\n",
              "      <td>...Aur Pyaar Ho Gaya</td>\n",
              "      <td>(1997)</td>\n",
              "      <td>147 min</td>\n",
              "      <td>Comedy, Drama, Musical</td>\n",
              "      <td>4.7</td>\n",
              "      <td>827</td>\n",
              "      <td>Rahul Rawail</td>\n",
              "      <td>Bobby Deol</td>\n",
              "      <td>Aishwarya Rai Bachchan</td>\n",
              "      <td>Shammi Kapoor</td>\n",
              "    </tr>\n",
              "    <tr>\n",
              "      <th>6</th>\n",
              "      <td>...Yahaan</td>\n",
              "      <td>(2005)</td>\n",
              "      <td>142 min</td>\n",
              "      <td>Drama, Romance, War</td>\n",
              "      <td>7.4</td>\n",
              "      <td>1,086</td>\n",
              "      <td>Shoojit Sircar</td>\n",
              "      <td>Jimmy Sheirgill</td>\n",
              "      <td>Minissha Lamba</td>\n",
              "      <td>Yashpal Sharma</td>\n",
              "    </tr>\n",
              "    <tr>\n",
              "      <th>7</th>\n",
              "      <td>.in for Motion</td>\n",
              "      <td>(2008)</td>\n",
              "      <td>59 min</td>\n",
              "      <td>Documentary</td>\n",
              "      <td>NaN</td>\n",
              "      <td>NaN</td>\n",
              "      <td>Anirban Datta</td>\n",
              "      <td>NaN</td>\n",
              "      <td>NaN</td>\n",
              "      <td>NaN</td>\n",
              "    </tr>\n",
              "    <tr>\n",
              "      <th>8</th>\n",
              "      <td>?: A Question Mark</td>\n",
              "      <td>(2012)</td>\n",
              "      <td>82 min</td>\n",
              "      <td>Horror, Mystery, Thriller</td>\n",
              "      <td>5.6</td>\n",
              "      <td>326</td>\n",
              "      <td>Allyson Patel</td>\n",
              "      <td>Yash Dave</td>\n",
              "      <td>Muntazir Ahmad</td>\n",
              "      <td>Kiran Bhatia</td>\n",
              "    </tr>\n",
              "    <tr>\n",
              "      <th>9</th>\n",
              "      <td>@Andheri</td>\n",
              "      <td>(2014)</td>\n",
              "      <td>116 min</td>\n",
              "      <td>Action, Crime, Thriller</td>\n",
              "      <td>4.0</td>\n",
              "      <td>11</td>\n",
              "      <td>Biju Bhaskar Nair</td>\n",
              "      <td>Augustine</td>\n",
              "      <td>Fathima Babu</td>\n",
              "      <td>Byon</td>\n",
              "    </tr>\n",
              "  </tbody>\n",
              "</table>\n",
              "</div>"
            ],
            "text/plain": [
              "                                 Name    Year Duration  \\\n",
              "0                                         NaN      NaN   \n",
              "1  #Gadhvi (He thought he was Gandhi)  (2019)  109 min   \n",
              "2                         #Homecoming  (2021)   90 min   \n",
              "3                             #Yaaram  (2019)  110 min   \n",
              "4                   ...And Once Again  (2010)  105 min   \n",
              "5                ...Aur Pyaar Ho Gaya  (1997)  147 min   \n",
              "6                           ...Yahaan  (2005)  142 min   \n",
              "7                      .in for Motion  (2008)   59 min   \n",
              "8                  ?: A Question Mark  (2012)   82 min   \n",
              "9                            @Andheri  (2014)  116 min   \n",
              "\n",
              "                       Genre  Rating  Votes            Director  \\\n",
              "0                      Drama     NaN    NaN       J.S. Randhawa   \n",
              "1                      Drama     7.0      8       Gaurav Bakshi   \n",
              "2             Drama, Musical     NaN    NaN  Soumyajit Majumdar   \n",
              "3            Comedy, Romance     4.4     35          Ovais Khan   \n",
              "4                      Drama     NaN    NaN        Amol Palekar   \n",
              "5     Comedy, Drama, Musical     4.7    827        Rahul Rawail   \n",
              "6        Drama, Romance, War     7.4  1,086      Shoojit Sircar   \n",
              "7                Documentary     NaN    NaN       Anirban Datta   \n",
              "8  Horror, Mystery, Thriller     5.6    326       Allyson Patel   \n",
              "9    Action, Crime, Thriller     4.0     11   Biju Bhaskar Nair   \n",
              "\n",
              "           Actor 1                 Actor 2          Actor 3  \n",
              "0         Manmauji                  Birbal  Rajendra Bhatia  \n",
              "1     Rasika Dugal          Vivek Ghamande    Arvind Jangid  \n",
              "2     Sayani Gupta       Plabita Borthakur       Roy Angana  \n",
              "3          Prateik              Ishita Raj  Siddhant Kapoor  \n",
              "4     Rajat Kapoor      Rituparna Sengupta      Antara Mali  \n",
              "5       Bobby Deol  Aishwarya Rai Bachchan    Shammi Kapoor  \n",
              "6  Jimmy Sheirgill          Minissha Lamba   Yashpal Sharma  \n",
              "7              NaN                     NaN              NaN  \n",
              "8        Yash Dave          Muntazir Ahmad     Kiran Bhatia  \n",
              "9        Augustine            Fathima Babu             Byon  "
            ]
          },
          "execution_count": 3,
          "metadata": {},
          "output_type": "execute_result"
        }
      ],
      "source": [
        "movie_data.head(10)"
      ]
    },
    {
      "cell_type": "code",
      "execution_count": 4,
      "metadata": {
        "colab": {
          "base_uri": "https://localhost:8080/"
        },
        "id": "NdE15G8S-cxB",
        "outputId": "4ee1ca91-04f1-42b5-c839-f76ded3aedd7"
      },
      "outputs": [
        {
          "data": {
            "text/plain": [
              "(15509, 10)"
            ]
          },
          "execution_count": 4,
          "metadata": {},
          "output_type": "execute_result"
        }
      ],
      "source": [
        "movie_data.shape"
      ]
    },
    {
      "cell_type": "code",
      "execution_count": 5,
      "metadata": {
        "colab": {
          "base_uri": "https://localhost:8080/",
          "height": 397
        },
        "id": "u4OFCuLD-yLL",
        "outputId": "09678e50-ec7e-462a-e379-7f71b9ed6c0a"
      },
      "outputs": [
        {
          "data": {
            "text/plain": [
              "Name           0\n",
              "Year         528\n",
              "Duration    8269\n",
              "Genre       1877\n",
              "Rating      7590\n",
              "Votes       7589\n",
              "Director     525\n",
              "Actor 1     1617\n",
              "Actor 2     2384\n",
              "Actor 3     3144\n",
              "dtype: int64"
            ]
          },
          "execution_count": 5,
          "metadata": {},
          "output_type": "execute_result"
        }
      ],
      "source": [
        "movie_data.isnull().sum()"
      ]
    },
    {
      "cell_type": "code",
      "execution_count": 6,
      "metadata": {
        "colab": {
          "base_uri": "https://localhost:8080/"
        },
        "id": "mYGeExXR_OzO",
        "outputId": "09d0ad97-2c83-4916-cb44-ece96ef1ee62"
      },
      "outputs": [
        {
          "name": "stdout",
          "output_type": "stream",
          "text": [
            "<class 'pandas.core.frame.DataFrame'>\n",
            "RangeIndex: 15509 entries, 0 to 15508\n",
            "Data columns (total 10 columns):\n",
            " #   Column    Non-Null Count  Dtype  \n",
            "---  ------    --------------  -----  \n",
            " 0   Name      15509 non-null  object \n",
            " 1   Year      14981 non-null  object \n",
            " 2   Duration  7240 non-null   object \n",
            " 3   Genre     13632 non-null  object \n",
            " 4   Rating    7919 non-null   float64\n",
            " 5   Votes     7920 non-null   object \n",
            " 6   Director  14984 non-null  object \n",
            " 7   Actor 1   13892 non-null  object \n",
            " 8   Actor 2   13125 non-null  object \n",
            " 9   Actor 3   12365 non-null  object \n",
            "dtypes: float64(1), object(9)\n",
            "memory usage: 1.2+ MB\n"
          ]
        }
      ],
      "source": [
        "movie_data.info()"
      ]
    },
    {
      "cell_type": "code",
      "execution_count": 7,
      "metadata": {
        "colab": {
          "base_uri": "https://localhost:8080/"
        },
        "id": "u45IdR-Q_lfs",
        "outputId": "bfdba90c-0942-459f-ab1a-3fd7c03d475d"
      },
      "outputs": [
        {
          "data": {
            "text/plain": [
              "np.int64(6)"
            ]
          },
          "execution_count": 7,
          "metadata": {},
          "output_type": "execute_result"
        }
      ],
      "source": [
        "movie_data.duplicated().sum()"
      ]
    },
    {
      "cell_type": "code",
      "execution_count": 8,
      "metadata": {
        "id": "ZLqJNCjk_s3i"
      },
      "outputs": [],
      "source": [
        "movie_data.dropna(inplace=True)"
      ]
    },
    {
      "cell_type": "code",
      "execution_count": 9,
      "metadata": {
        "colab": {
          "base_uri": "https://localhost:8080/"
        },
        "id": "fnRMDj2bAN2G",
        "outputId": "c6dc98c2-ebb5-4e4b-ae78-b698a03fcabf"
      },
      "outputs": [
        {
          "data": {
            "text/plain": [
              "(5659, 10)"
            ]
          },
          "execution_count": 9,
          "metadata": {},
          "output_type": "execute_result"
        }
      ],
      "source": [
        "movie_data.shape"
      ]
    },
    {
      "cell_type": "code",
      "execution_count": 10,
      "metadata": {
        "colab": {
          "base_uri": "https://localhost:8080/",
          "height": 397
        },
        "id": "5oltVhg9AWsm",
        "outputId": "6a6a0a96-7b32-4c3c-df98-974ae40a0c9b"
      },
      "outputs": [
        {
          "data": {
            "text/plain": [
              "Name        0\n",
              "Year        0\n",
              "Duration    0\n",
              "Genre       0\n",
              "Rating      0\n",
              "Votes       0\n",
              "Director    0\n",
              "Actor 1     0\n",
              "Actor 2     0\n",
              "Actor 3     0\n",
              "dtype: int64"
            ]
          },
          "execution_count": 10,
          "metadata": {},
          "output_type": "execute_result"
        }
      ],
      "source": [
        "movie_data.isnull().sum()"
      ]
    },
    {
      "cell_type": "code",
      "execution_count": 11,
      "metadata": {
        "id": "GgqTYN_qAja_"
      },
      "outputs": [],
      "source": [
        "movie_data.drop_duplicates(inplace=True)"
      ]
    },
    {
      "cell_type": "code",
      "execution_count": 12,
      "metadata": {
        "colab": {
          "base_uri": "https://localhost:8080/"
        },
        "id": "IBWcIDanArdr",
        "outputId": "6fd648c8-d7a6-4db1-be7a-e64ed5b1fcf0"
      },
      "outputs": [
        {
          "data": {
            "text/plain": [
              "np.int64(0)"
            ]
          },
          "execution_count": 12,
          "metadata": {},
          "output_type": "execute_result"
        }
      ],
      "source": [
        "movie_data.duplicated().sum()"
      ]
    },
    {
      "cell_type": "code",
      "execution_count": 13,
      "metadata": {
        "colab": {
          "base_uri": "https://localhost:8080/"
        },
        "id": "1FzY3mQOA_Jw",
        "outputId": "ce5c4b7e-9dc2-4594-98de-a1ecf1570c79"
      },
      "outputs": [
        {
          "data": {
            "text/plain": [
              "(5659, 10)"
            ]
          },
          "execution_count": 13,
          "metadata": {},
          "output_type": "execute_result"
        }
      ],
      "source": [
        "movie_data.shape"
      ]
    },
    {
      "cell_type": "code",
      "execution_count": 14,
      "metadata": {
        "colab": {
          "base_uri": "https://localhost:8080/"
        },
        "id": "uNsuokuHBKWt",
        "outputId": "c93d848c-f5e6-42c8-8300-c3eb0d4b99cb"
      },
      "outputs": [
        {
          "data": {
            "text/plain": [
              "Index(['Name', 'Year', 'Duration', 'Genre', 'Rating', 'Votes', 'Director',\n",
              "       'Actor 1', 'Actor 2', 'Actor 3'],\n",
              "      dtype='object')"
            ]
          },
          "execution_count": 14,
          "metadata": {},
          "output_type": "execute_result"
        }
      ],
      "source": [
        "movie_data.columns"
      ]
    },
    {
      "cell_type": "code",
      "execution_count": 15,
      "metadata": {
        "id": "-HAONXs-CqZJ"
      },
      "outputs": [],
      "source": [
        "#to replace all brackets from \"year\" column\n",
        "movie_data['Year'] = movie_data['Year'].astype(str).str.replace(r'[()]', '', regex=True).astype(int)"
      ]
    },
    {
      "cell_type": "code",
      "execution_count": 16,
      "metadata": {
        "colab": {
          "base_uri": "https://localhost:8080/",
          "height": 362
        },
        "id": "1dXb1kH3D3n7",
        "outputId": "f59ad86a-ec2c-416d-982b-1b4fc1294dc3"
      },
      "outputs": [
        {
          "data": {
            "text/html": [
              "<div>\n",
              "<style scoped>\n",
              "    .dataframe tbody tr th:only-of-type {\n",
              "        vertical-align: middle;\n",
              "    }\n",
              "\n",
              "    .dataframe tbody tr th {\n",
              "        vertical-align: top;\n",
              "    }\n",
              "\n",
              "    .dataframe thead th {\n",
              "        text-align: right;\n",
              "    }\n",
              "</style>\n",
              "<table border=\"1\" class=\"dataframe\">\n",
              "  <thead>\n",
              "    <tr style=\"text-align: right;\">\n",
              "      <th></th>\n",
              "      <th>Name</th>\n",
              "      <th>Year</th>\n",
              "      <th>Duration</th>\n",
              "      <th>Genre</th>\n",
              "      <th>Rating</th>\n",
              "      <th>Votes</th>\n",
              "      <th>Director</th>\n",
              "      <th>Actor 1</th>\n",
              "      <th>Actor 2</th>\n",
              "      <th>Actor 3</th>\n",
              "    </tr>\n",
              "  </thead>\n",
              "  <tbody>\n",
              "    <tr>\n",
              "      <th>1</th>\n",
              "      <td>#Gadhvi (He thought he was Gandhi)</td>\n",
              "      <td>2019</td>\n",
              "      <td>109 min</td>\n",
              "      <td>Drama</td>\n",
              "      <td>7.0</td>\n",
              "      <td>8</td>\n",
              "      <td>Gaurav Bakshi</td>\n",
              "      <td>Rasika Dugal</td>\n",
              "      <td>Vivek Ghamande</td>\n",
              "      <td>Arvind Jangid</td>\n",
              "    </tr>\n",
              "    <tr>\n",
              "      <th>3</th>\n",
              "      <td>#Yaaram</td>\n",
              "      <td>2019</td>\n",
              "      <td>110 min</td>\n",
              "      <td>Comedy, Romance</td>\n",
              "      <td>4.4</td>\n",
              "      <td>35</td>\n",
              "      <td>Ovais Khan</td>\n",
              "      <td>Prateik</td>\n",
              "      <td>Ishita Raj</td>\n",
              "      <td>Siddhant Kapoor</td>\n",
              "    </tr>\n",
              "    <tr>\n",
              "      <th>5</th>\n",
              "      <td>...Aur Pyaar Ho Gaya</td>\n",
              "      <td>1997</td>\n",
              "      <td>147 min</td>\n",
              "      <td>Comedy, Drama, Musical</td>\n",
              "      <td>4.7</td>\n",
              "      <td>827</td>\n",
              "      <td>Rahul Rawail</td>\n",
              "      <td>Bobby Deol</td>\n",
              "      <td>Aishwarya Rai Bachchan</td>\n",
              "      <td>Shammi Kapoor</td>\n",
              "    </tr>\n",
              "    <tr>\n",
              "      <th>6</th>\n",
              "      <td>...Yahaan</td>\n",
              "      <td>2005</td>\n",
              "      <td>142 min</td>\n",
              "      <td>Drama, Romance, War</td>\n",
              "      <td>7.4</td>\n",
              "      <td>1,086</td>\n",
              "      <td>Shoojit Sircar</td>\n",
              "      <td>Jimmy Sheirgill</td>\n",
              "      <td>Minissha Lamba</td>\n",
              "      <td>Yashpal Sharma</td>\n",
              "    </tr>\n",
              "    <tr>\n",
              "      <th>8</th>\n",
              "      <td>?: A Question Mark</td>\n",
              "      <td>2012</td>\n",
              "      <td>82 min</td>\n",
              "      <td>Horror, Mystery, Thriller</td>\n",
              "      <td>5.6</td>\n",
              "      <td>326</td>\n",
              "      <td>Allyson Patel</td>\n",
              "      <td>Yash Dave</td>\n",
              "      <td>Muntazir Ahmad</td>\n",
              "      <td>Kiran Bhatia</td>\n",
              "    </tr>\n",
              "  </tbody>\n",
              "</table>\n",
              "</div>"
            ],
            "text/plain": [
              "                                 Name  Year Duration  \\\n",
              "1  #Gadhvi (He thought he was Gandhi)  2019  109 min   \n",
              "3                             #Yaaram  2019  110 min   \n",
              "5                ...Aur Pyaar Ho Gaya  1997  147 min   \n",
              "6                           ...Yahaan  2005  142 min   \n",
              "8                  ?: A Question Mark  2012   82 min   \n",
              "\n",
              "                       Genre  Rating  Votes        Director          Actor 1  \\\n",
              "1                      Drama     7.0      8   Gaurav Bakshi     Rasika Dugal   \n",
              "3            Comedy, Romance     4.4     35      Ovais Khan          Prateik   \n",
              "5     Comedy, Drama, Musical     4.7    827    Rahul Rawail       Bobby Deol   \n",
              "6        Drama, Romance, War     7.4  1,086  Shoojit Sircar  Jimmy Sheirgill   \n",
              "8  Horror, Mystery, Thriller     5.6    326   Allyson Patel        Yash Dave   \n",
              "\n",
              "                  Actor 2          Actor 3  \n",
              "1          Vivek Ghamande    Arvind Jangid  \n",
              "3              Ishita Raj  Siddhant Kapoor  \n",
              "5  Aishwarya Rai Bachchan    Shammi Kapoor  \n",
              "6          Minissha Lamba   Yashpal Sharma  \n",
              "8          Muntazir Ahmad     Kiran Bhatia  "
            ]
          },
          "execution_count": 16,
          "metadata": {},
          "output_type": "execute_result"
        }
      ],
      "source": [
        "movie_data.head()"
      ]
    },
    {
      "cell_type": "code",
      "execution_count": 17,
      "metadata": {
        "id": "KzTCXoW8ET-b"
      },
      "outputs": [],
      "source": [
        "movie_data['Duration'] = movie_data['Duration'].astype(str).str.replace('min', '', regex=False)\n",
        "movie_data['Duration'] = pd.to_numeric(movie_data['Duration'], errors='coerce')\n"
      ]
    },
    {
      "cell_type": "code",
      "execution_count": 18,
      "metadata": {
        "colab": {
          "base_uri": "https://localhost:8080/",
          "height": 362
        },
        "id": "FOf2zDKcN6OG",
        "outputId": "1efd19c0-7e7a-4dbf-be9a-aab37d1ba813"
      },
      "outputs": [
        {
          "data": {
            "text/html": [
              "<div>\n",
              "<style scoped>\n",
              "    .dataframe tbody tr th:only-of-type {\n",
              "        vertical-align: middle;\n",
              "    }\n",
              "\n",
              "    .dataframe tbody tr th {\n",
              "        vertical-align: top;\n",
              "    }\n",
              "\n",
              "    .dataframe thead th {\n",
              "        text-align: right;\n",
              "    }\n",
              "</style>\n",
              "<table border=\"1\" class=\"dataframe\">\n",
              "  <thead>\n",
              "    <tr style=\"text-align: right;\">\n",
              "      <th></th>\n",
              "      <th>Name</th>\n",
              "      <th>Year</th>\n",
              "      <th>Duration</th>\n",
              "      <th>Genre</th>\n",
              "      <th>Rating</th>\n",
              "      <th>Votes</th>\n",
              "      <th>Director</th>\n",
              "      <th>Actor 1</th>\n",
              "      <th>Actor 2</th>\n",
              "      <th>Actor 3</th>\n",
              "    </tr>\n",
              "  </thead>\n",
              "  <tbody>\n",
              "    <tr>\n",
              "      <th>1</th>\n",
              "      <td>#Gadhvi (He thought he was Gandhi)</td>\n",
              "      <td>2019</td>\n",
              "      <td>109</td>\n",
              "      <td>Drama</td>\n",
              "      <td>7.0</td>\n",
              "      <td>8</td>\n",
              "      <td>Gaurav Bakshi</td>\n",
              "      <td>Rasika Dugal</td>\n",
              "      <td>Vivek Ghamande</td>\n",
              "      <td>Arvind Jangid</td>\n",
              "    </tr>\n",
              "    <tr>\n",
              "      <th>3</th>\n",
              "      <td>#Yaaram</td>\n",
              "      <td>2019</td>\n",
              "      <td>110</td>\n",
              "      <td>Comedy, Romance</td>\n",
              "      <td>4.4</td>\n",
              "      <td>35</td>\n",
              "      <td>Ovais Khan</td>\n",
              "      <td>Prateik</td>\n",
              "      <td>Ishita Raj</td>\n",
              "      <td>Siddhant Kapoor</td>\n",
              "    </tr>\n",
              "    <tr>\n",
              "      <th>5</th>\n",
              "      <td>...Aur Pyaar Ho Gaya</td>\n",
              "      <td>1997</td>\n",
              "      <td>147</td>\n",
              "      <td>Comedy, Drama, Musical</td>\n",
              "      <td>4.7</td>\n",
              "      <td>827</td>\n",
              "      <td>Rahul Rawail</td>\n",
              "      <td>Bobby Deol</td>\n",
              "      <td>Aishwarya Rai Bachchan</td>\n",
              "      <td>Shammi Kapoor</td>\n",
              "    </tr>\n",
              "    <tr>\n",
              "      <th>6</th>\n",
              "      <td>...Yahaan</td>\n",
              "      <td>2005</td>\n",
              "      <td>142</td>\n",
              "      <td>Drama, Romance, War</td>\n",
              "      <td>7.4</td>\n",
              "      <td>1,086</td>\n",
              "      <td>Shoojit Sircar</td>\n",
              "      <td>Jimmy Sheirgill</td>\n",
              "      <td>Minissha Lamba</td>\n",
              "      <td>Yashpal Sharma</td>\n",
              "    </tr>\n",
              "    <tr>\n",
              "      <th>8</th>\n",
              "      <td>?: A Question Mark</td>\n",
              "      <td>2012</td>\n",
              "      <td>82</td>\n",
              "      <td>Horror, Mystery, Thriller</td>\n",
              "      <td>5.6</td>\n",
              "      <td>326</td>\n",
              "      <td>Allyson Patel</td>\n",
              "      <td>Yash Dave</td>\n",
              "      <td>Muntazir Ahmad</td>\n",
              "      <td>Kiran Bhatia</td>\n",
              "    </tr>\n",
              "  </tbody>\n",
              "</table>\n",
              "</div>"
            ],
            "text/plain": [
              "                                 Name  Year  Duration  \\\n",
              "1  #Gadhvi (He thought he was Gandhi)  2019       109   \n",
              "3                             #Yaaram  2019       110   \n",
              "5                ...Aur Pyaar Ho Gaya  1997       147   \n",
              "6                           ...Yahaan  2005       142   \n",
              "8                  ?: A Question Mark  2012        82   \n",
              "\n",
              "                       Genre  Rating  Votes        Director          Actor 1  \\\n",
              "1                      Drama     7.0      8   Gaurav Bakshi     Rasika Dugal   \n",
              "3            Comedy, Romance     4.4     35      Ovais Khan          Prateik   \n",
              "5     Comedy, Drama, Musical     4.7    827    Rahul Rawail       Bobby Deol   \n",
              "6        Drama, Romance, War     7.4  1,086  Shoojit Sircar  Jimmy Sheirgill   \n",
              "8  Horror, Mystery, Thriller     5.6    326   Allyson Patel        Yash Dave   \n",
              "\n",
              "                  Actor 2          Actor 3  \n",
              "1          Vivek Ghamande    Arvind Jangid  \n",
              "3              Ishita Raj  Siddhant Kapoor  \n",
              "5  Aishwarya Rai Bachchan    Shammi Kapoor  \n",
              "6          Minissha Lamba   Yashpal Sharma  \n",
              "8          Muntazir Ahmad     Kiran Bhatia  "
            ]
          },
          "execution_count": 18,
          "metadata": {},
          "output_type": "execute_result"
        }
      ],
      "source": [
        "movie_data.head()"
      ]
    },
    {
      "cell_type": "code",
      "execution_count": 19,
      "metadata": {
        "id": "AG-OuJD2QzF8"
      },
      "outputs": [],
      "source": [
        "# Split genres and handle missing values\n",
        "movie_data['Genre'] = movie_data['Genre'].fillna('').astype(str).str.split(',')\n",
        "movie_data = movie_data.explode('Genre')\n",
        "\n",
        "# Remove whitespace and lowercase if needed\n",
        "movie_data['Genre'] = movie_data['Genre'].str.strip()\n",
        "\n",
        "# Replace empty strings or \"None\"/None values with the mode\n",
        "genre_mode = movie_data['Genre'].mode()[0]\n",
        "\n",
        "# Replace empty strings and None with the mode\n",
        "movie_data['Genre'] = movie_data['Genre'].replace(['', None, 'None'], genre_mode)\n"
      ]
    },
    {
      "cell_type": "code",
      "execution_count": 20,
      "metadata": {
        "colab": {
          "base_uri": "https://localhost:8080/",
          "height": 310
        },
        "id": "zUA8TJE-RHVB",
        "outputId": "1d9a5014-df29-486f-ae27-a115a5e9b908"
      },
      "outputs": [
        {
          "data": {
            "text/html": [
              "<div>\n",
              "<style scoped>\n",
              "    .dataframe tbody tr th:only-of-type {\n",
              "        vertical-align: middle;\n",
              "    }\n",
              "\n",
              "    .dataframe tbody tr th {\n",
              "        vertical-align: top;\n",
              "    }\n",
              "\n",
              "    .dataframe thead th {\n",
              "        text-align: right;\n",
              "    }\n",
              "</style>\n",
              "<table border=\"1\" class=\"dataframe\">\n",
              "  <thead>\n",
              "    <tr style=\"text-align: right;\">\n",
              "      <th></th>\n",
              "      <th>Name</th>\n",
              "      <th>Year</th>\n",
              "      <th>Duration</th>\n",
              "      <th>Genre</th>\n",
              "      <th>Rating</th>\n",
              "      <th>Votes</th>\n",
              "      <th>Director</th>\n",
              "      <th>Actor 1</th>\n",
              "      <th>Actor 2</th>\n",
              "      <th>Actor 3</th>\n",
              "    </tr>\n",
              "  </thead>\n",
              "  <tbody>\n",
              "    <tr>\n",
              "      <th>1</th>\n",
              "      <td>#Gadhvi (He thought he was Gandhi)</td>\n",
              "      <td>2019</td>\n",
              "      <td>109</td>\n",
              "      <td>Drama</td>\n",
              "      <td>7.0</td>\n",
              "      <td>8</td>\n",
              "      <td>Gaurav Bakshi</td>\n",
              "      <td>Rasika Dugal</td>\n",
              "      <td>Vivek Ghamande</td>\n",
              "      <td>Arvind Jangid</td>\n",
              "    </tr>\n",
              "    <tr>\n",
              "      <th>3</th>\n",
              "      <td>#Yaaram</td>\n",
              "      <td>2019</td>\n",
              "      <td>110</td>\n",
              "      <td>Comedy</td>\n",
              "      <td>4.4</td>\n",
              "      <td>35</td>\n",
              "      <td>Ovais Khan</td>\n",
              "      <td>Prateik</td>\n",
              "      <td>Ishita Raj</td>\n",
              "      <td>Siddhant Kapoor</td>\n",
              "    </tr>\n",
              "    <tr>\n",
              "      <th>3</th>\n",
              "      <td>#Yaaram</td>\n",
              "      <td>2019</td>\n",
              "      <td>110</td>\n",
              "      <td>Romance</td>\n",
              "      <td>4.4</td>\n",
              "      <td>35</td>\n",
              "      <td>Ovais Khan</td>\n",
              "      <td>Prateik</td>\n",
              "      <td>Ishita Raj</td>\n",
              "      <td>Siddhant Kapoor</td>\n",
              "    </tr>\n",
              "    <tr>\n",
              "      <th>5</th>\n",
              "      <td>...Aur Pyaar Ho Gaya</td>\n",
              "      <td>1997</td>\n",
              "      <td>147</td>\n",
              "      <td>Comedy</td>\n",
              "      <td>4.7</td>\n",
              "      <td>827</td>\n",
              "      <td>Rahul Rawail</td>\n",
              "      <td>Bobby Deol</td>\n",
              "      <td>Aishwarya Rai Bachchan</td>\n",
              "      <td>Shammi Kapoor</td>\n",
              "    </tr>\n",
              "    <tr>\n",
              "      <th>5</th>\n",
              "      <td>...Aur Pyaar Ho Gaya</td>\n",
              "      <td>1997</td>\n",
              "      <td>147</td>\n",
              "      <td>Drama</td>\n",
              "      <td>4.7</td>\n",
              "      <td>827</td>\n",
              "      <td>Rahul Rawail</td>\n",
              "      <td>Bobby Deol</td>\n",
              "      <td>Aishwarya Rai Bachchan</td>\n",
              "      <td>Shammi Kapoor</td>\n",
              "    </tr>\n",
              "  </tbody>\n",
              "</table>\n",
              "</div>"
            ],
            "text/plain": [
              "                                 Name  Year  Duration    Genre  Rating Votes  \\\n",
              "1  #Gadhvi (He thought he was Gandhi)  2019       109    Drama     7.0     8   \n",
              "3                             #Yaaram  2019       110   Comedy     4.4    35   \n",
              "3                             #Yaaram  2019       110  Romance     4.4    35   \n",
              "5                ...Aur Pyaar Ho Gaya  1997       147   Comedy     4.7   827   \n",
              "5                ...Aur Pyaar Ho Gaya  1997       147    Drama     4.7   827   \n",
              "\n",
              "        Director       Actor 1                 Actor 2          Actor 3  \n",
              "1  Gaurav Bakshi  Rasika Dugal          Vivek Ghamande    Arvind Jangid  \n",
              "3     Ovais Khan       Prateik              Ishita Raj  Siddhant Kapoor  \n",
              "3     Ovais Khan       Prateik              Ishita Raj  Siddhant Kapoor  \n",
              "5   Rahul Rawail    Bobby Deol  Aishwarya Rai Bachchan    Shammi Kapoor  \n",
              "5   Rahul Rawail    Bobby Deol  Aishwarya Rai Bachchan    Shammi Kapoor  "
            ]
          },
          "execution_count": 20,
          "metadata": {},
          "output_type": "execute_result"
        }
      ],
      "source": [
        "movie_data.head()"
      ]
    },
    {
      "cell_type": "code",
      "execution_count": 21,
      "metadata": {
        "colab": {
          "base_uri": "https://localhost:8080/"
        },
        "id": "lhHIsH-5RPhv",
        "outputId": "e16788ea-d91c-4a41-9567-f51073bb5280"
      },
      "outputs": [
        {
          "name": "stdout",
          "output_type": "stream",
          "text": [
            "<class 'pandas.core.frame.DataFrame'>\n",
            "Index: 11979 entries, 1 to 15508\n",
            "Data columns (total 10 columns):\n",
            " #   Column    Non-Null Count  Dtype  \n",
            "---  ------    --------------  -----  \n",
            " 0   Name      11979 non-null  object \n",
            " 1   Year      11979 non-null  int64  \n",
            " 2   Duration  11979 non-null  int64  \n",
            " 3   Genre     11979 non-null  object \n",
            " 4   Rating    11979 non-null  float64\n",
            " 5   Votes     11979 non-null  object \n",
            " 6   Director  11979 non-null  object \n",
            " 7   Actor 1   11979 non-null  object \n",
            " 8   Actor 2   11979 non-null  object \n",
            " 9   Actor 3   11979 non-null  object \n",
            "dtypes: float64(1), int64(2), object(7)\n",
            "memory usage: 1.0+ MB\n"
          ]
        }
      ],
      "source": [
        "movie_data.info()"
      ]
    },
    {
      "cell_type": "code",
      "execution_count": 22,
      "metadata": {
        "id": "JYKlyU2JR-5A"
      },
      "outputs": [],
      "source": [
        "# Remove commas and convert to numeric\n",
        "movie_data['Votes'] = movie_data['Votes'].astype(str).str.replace(',', '', regex=False)\n",
        "movie_data['Votes'] = pd.to_numeric(movie_data['Votes'], errors='coerce')\n"
      ]
    },
    {
      "cell_type": "code",
      "execution_count": 23,
      "metadata": {
        "colab": {
          "base_uri": "https://localhost:8080/",
          "height": 310
        },
        "id": "EI0X8VWpSIX3",
        "outputId": "8854a5d6-d841-4e89-d085-5d8badd9807c"
      },
      "outputs": [
        {
          "data": {
            "text/html": [
              "<div>\n",
              "<style scoped>\n",
              "    .dataframe tbody tr th:only-of-type {\n",
              "        vertical-align: middle;\n",
              "    }\n",
              "\n",
              "    .dataframe tbody tr th {\n",
              "        vertical-align: top;\n",
              "    }\n",
              "\n",
              "    .dataframe thead th {\n",
              "        text-align: right;\n",
              "    }\n",
              "</style>\n",
              "<table border=\"1\" class=\"dataframe\">\n",
              "  <thead>\n",
              "    <tr style=\"text-align: right;\">\n",
              "      <th></th>\n",
              "      <th>Name</th>\n",
              "      <th>Year</th>\n",
              "      <th>Duration</th>\n",
              "      <th>Genre</th>\n",
              "      <th>Rating</th>\n",
              "      <th>Votes</th>\n",
              "      <th>Director</th>\n",
              "      <th>Actor 1</th>\n",
              "      <th>Actor 2</th>\n",
              "      <th>Actor 3</th>\n",
              "    </tr>\n",
              "  </thead>\n",
              "  <tbody>\n",
              "    <tr>\n",
              "      <th>1</th>\n",
              "      <td>#Gadhvi (He thought he was Gandhi)</td>\n",
              "      <td>2019</td>\n",
              "      <td>109</td>\n",
              "      <td>Drama</td>\n",
              "      <td>7.0</td>\n",
              "      <td>8</td>\n",
              "      <td>Gaurav Bakshi</td>\n",
              "      <td>Rasika Dugal</td>\n",
              "      <td>Vivek Ghamande</td>\n",
              "      <td>Arvind Jangid</td>\n",
              "    </tr>\n",
              "    <tr>\n",
              "      <th>3</th>\n",
              "      <td>#Yaaram</td>\n",
              "      <td>2019</td>\n",
              "      <td>110</td>\n",
              "      <td>Comedy</td>\n",
              "      <td>4.4</td>\n",
              "      <td>35</td>\n",
              "      <td>Ovais Khan</td>\n",
              "      <td>Prateik</td>\n",
              "      <td>Ishita Raj</td>\n",
              "      <td>Siddhant Kapoor</td>\n",
              "    </tr>\n",
              "    <tr>\n",
              "      <th>3</th>\n",
              "      <td>#Yaaram</td>\n",
              "      <td>2019</td>\n",
              "      <td>110</td>\n",
              "      <td>Romance</td>\n",
              "      <td>4.4</td>\n",
              "      <td>35</td>\n",
              "      <td>Ovais Khan</td>\n",
              "      <td>Prateik</td>\n",
              "      <td>Ishita Raj</td>\n",
              "      <td>Siddhant Kapoor</td>\n",
              "    </tr>\n",
              "    <tr>\n",
              "      <th>5</th>\n",
              "      <td>...Aur Pyaar Ho Gaya</td>\n",
              "      <td>1997</td>\n",
              "      <td>147</td>\n",
              "      <td>Comedy</td>\n",
              "      <td>4.7</td>\n",
              "      <td>827</td>\n",
              "      <td>Rahul Rawail</td>\n",
              "      <td>Bobby Deol</td>\n",
              "      <td>Aishwarya Rai Bachchan</td>\n",
              "      <td>Shammi Kapoor</td>\n",
              "    </tr>\n",
              "    <tr>\n",
              "      <th>5</th>\n",
              "      <td>...Aur Pyaar Ho Gaya</td>\n",
              "      <td>1997</td>\n",
              "      <td>147</td>\n",
              "      <td>Drama</td>\n",
              "      <td>4.7</td>\n",
              "      <td>827</td>\n",
              "      <td>Rahul Rawail</td>\n",
              "      <td>Bobby Deol</td>\n",
              "      <td>Aishwarya Rai Bachchan</td>\n",
              "      <td>Shammi Kapoor</td>\n",
              "    </tr>\n",
              "  </tbody>\n",
              "</table>\n",
              "</div>"
            ],
            "text/plain": [
              "                                 Name  Year  Duration    Genre  Rating  Votes  \\\n",
              "1  #Gadhvi (He thought he was Gandhi)  2019       109    Drama     7.0      8   \n",
              "3                             #Yaaram  2019       110   Comedy     4.4     35   \n",
              "3                             #Yaaram  2019       110  Romance     4.4     35   \n",
              "5                ...Aur Pyaar Ho Gaya  1997       147   Comedy     4.7    827   \n",
              "5                ...Aur Pyaar Ho Gaya  1997       147    Drama     4.7    827   \n",
              "\n",
              "        Director       Actor 1                 Actor 2          Actor 3  \n",
              "1  Gaurav Bakshi  Rasika Dugal          Vivek Ghamande    Arvind Jangid  \n",
              "3     Ovais Khan       Prateik              Ishita Raj  Siddhant Kapoor  \n",
              "3     Ovais Khan       Prateik              Ishita Raj  Siddhant Kapoor  \n",
              "5   Rahul Rawail    Bobby Deol  Aishwarya Rai Bachchan    Shammi Kapoor  \n",
              "5   Rahul Rawail    Bobby Deol  Aishwarya Rai Bachchan    Shammi Kapoor  "
            ]
          },
          "execution_count": 23,
          "metadata": {},
          "output_type": "execute_result"
        }
      ],
      "source": [
        "movie_data.head()"
      ]
    },
    {
      "cell_type": "code",
      "execution_count": 24,
      "metadata": {
        "colab": {
          "base_uri": "https://localhost:8080/"
        },
        "id": "vop8UkHySTfk",
        "outputId": "a74f5281-4082-442c-8d8e-abc19a282f2e"
      },
      "outputs": [
        {
          "name": "stdout",
          "output_type": "stream",
          "text": [
            "<class 'pandas.core.frame.DataFrame'>\n",
            "Index: 11979 entries, 1 to 15508\n",
            "Data columns (total 10 columns):\n",
            " #   Column    Non-Null Count  Dtype  \n",
            "---  ------    --------------  -----  \n",
            " 0   Name      11979 non-null  object \n",
            " 1   Year      11979 non-null  int64  \n",
            " 2   Duration  11979 non-null  int64  \n",
            " 3   Genre     11979 non-null  object \n",
            " 4   Rating    11979 non-null  float64\n",
            " 5   Votes     11979 non-null  int64  \n",
            " 6   Director  11979 non-null  object \n",
            " 7   Actor 1   11979 non-null  object \n",
            " 8   Actor 2   11979 non-null  object \n",
            " 9   Actor 3   11979 non-null  object \n",
            "dtypes: float64(1), int64(3), object(6)\n",
            "memory usage: 1.0+ MB\n"
          ]
        }
      ],
      "source": [
        "movie_data.info()"
      ]
    },
    {
      "cell_type": "markdown",
      "metadata": {
        "id": "F0PkfZ1OSh2g"
      },
      "source": [
        "Data Visualization"
      ]
    },
    {
      "cell_type": "code",
      "execution_count": 25,
      "metadata": {
        "colab": {
          "base_uri": "https://localhost:8080/",
          "height": 542
        },
        "id": "w61M3iOoV92b",
        "outputId": "22fc0400-a55d-4b58-f20f-71608d717650"
      },
      "outputs": [
        {
          "data": {
            "application/vnd.plotly.v1+json": {
              "config": {
                "plotlyServerURL": "https://plot.ly"
              },
              "data": [
                {
                  "bingroup": "x",
                  "histnorm": "probability density",
                  "hovertemplate": "Release Year=%{x}<br>probability density=%{y}<extra></extra>",
                  "legendgroup": "",
                  "marker": {
                    "color": "#636efa",
                    "pattern": {
                      "shape": ""
                    }
                  },
                  "name": "",
                  "nbinsx": 30,
                  "orientation": "v",
                  "showlegend": false,
                  "type": "histogram",
                  "x": {
                    "bdata": "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",
                    "dtype": "i2"
                  },
                  "xaxis": "x",
                  "yaxis": "y"
                }
              ],
              "layout": {
                "bargap": 0.02,
                "barmode": "relative",
                "legend": {
                  "tracegroupgap": 0
                },
                "template": {
                  "data": {
                    "bar": [
                      {
                        "error_x": {
                          "color": "#2a3f5f"
                        },
                        "error_y": {
                          "color": "#2a3f5f"
                        },
                        "marker": {
                          "line": {
                            "color": "#E5ECF6",
                            "width": 0.5
                          },
                          "pattern": {
                            "fillmode": "overlay",
                            "size": 10,
                            "solidity": 0.2
                          }
                        },
                        "type": "bar"
                      }
                    ],
                    "barpolar": [
                      {
                        "marker": {
                          "line": {
                            "color": "#E5ECF6",
                            "width": 0.5
                          },
                          "pattern": {
                            "fillmode": "overlay",
                            "size": 10,
                            "solidity": 0.2
                          }
                        },
                        "type": "barpolar"
                      }
                    ],
                    "carpet": [
                      {
                        "aaxis": {
                          "endlinecolor": "#2a3f5f",
                          "gridcolor": "white",
                          "linecolor": "white",
                          "minorgridcolor": "white",
                          "startlinecolor": "#2a3f5f"
                        },
                        "baxis": {
                          "endlinecolor": "#2a3f5f",
                          "gridcolor": "white",
                          "linecolor": "white",
                          "minorgridcolor": "white",
                          "startlinecolor": "#2a3f5f"
                        },
                        "type": "carpet"
                      }
                    ],
                    "choropleth": [
                      {
                        "colorbar": {
                          "outlinewidth": 0,
                          "ticks": ""
                        },
                        "type": "choropleth"
                      }
                    ],
                    "contour": [
                      {
                        "colorbar": {
                          "outlinewidth": 0,
                          "ticks": ""
                        },
                        "colorscale": [
                          [
                            0,
                            "#0d0887"
                          ],
                          [
                            0.1111111111111111,
                            "#46039f"
                          ],
                          [
                            0.2222222222222222,
                            "#7201a8"
                          ],
                          [
                            0.3333333333333333,
                            "#9c179e"
                          ],
                          [
                            0.4444444444444444,
                            "#bd3786"
                          ],
                          [
                            0.5555555555555556,
                            "#d8576b"
                          ],
                          [
                            0.6666666666666666,
                            "#ed7953"
                          ],
                          [
                            0.7777777777777778,
                            "#fb9f3a"
                          ],
                          [
                            0.8888888888888888,
                            "#fdca26"
                          ],
                          [
                            1,
                            "#f0f921"
                          ]
                        ],
                        "type": "contour"
                      }
                    ],
                    "contourcarpet": [
                      {
                        "colorbar": {
                          "outlinewidth": 0,
                          "ticks": ""
                        },
                        "type": "contourcarpet"
                      }
                    ],
                    "heatmap": [
                      {
                        "colorbar": {
                          "outlinewidth": 0,
                          "ticks": ""
                        },
                        "colorscale": [
                          [
                            0,
                            "#0d0887"
                          ],
                          [
                            0.1111111111111111,
                            "#46039f"
                          ],
                          [
                            0.2222222222222222,
                            "#7201a8"
                          ],
                          [
                            0.3333333333333333,
                            "#9c179e"
                          ],
                          [
                            0.4444444444444444,
                            "#bd3786"
                          ],
                          [
                            0.5555555555555556,
                            "#d8576b"
                          ],
                          [
                            0.6666666666666666,
                            "#ed7953"
                          ],
                          [
                            0.7777777777777778,
                            "#fb9f3a"
                          ],
                          [
                            0.8888888888888888,
                            "#fdca26"
                          ],
                          [
                            1,
                            "#f0f921"
                          ]
                        ],
                        "type": "heatmap"
                      }
                    ],
                    "histogram": [
                      {
                        "marker": {
                          "pattern": {
                            "fillmode": "overlay",
                            "size": 10,
                            "solidity": 0.2
                          }
                        },
                        "type": "histogram"
                      }
                    ],
                    "histogram2d": [
                      {
                        "colorbar": {
                          "outlinewidth": 0,
                          "ticks": ""
                        },
                        "colorscale": [
                          [
                            0,
                            "#0d0887"
                          ],
                          [
                            0.1111111111111111,
                            "#46039f"
                          ],
                          [
                            0.2222222222222222,
                            "#7201a8"
                          ],
                          [
                            0.3333333333333333,
                            "#9c179e"
                          ],
                          [
                            0.4444444444444444,
                            "#bd3786"
                          ],
                          [
                            0.5555555555555556,
                            "#d8576b"
                          ],
                          [
                            0.6666666666666666,
                            "#ed7953"
                          ],
                          [
                            0.7777777777777778,
                            "#fb9f3a"
                          ],
                          [
                            0.8888888888888888,
                            "#fdca26"
                          ],
                          [
                            1,
                            "#f0f921"
                          ]
                        ],
                        "type": "histogram2d"
                      }
                    ],
                    "histogram2dcontour": [
                      {
                        "colorbar": {
                          "outlinewidth": 0,
                          "ticks": ""
                        },
                        "colorscale": [
                          [
                            0,
                            "#0d0887"
                          ],
                          [
                            0.1111111111111111,
                            "#46039f"
                          ],
                          [
                            0.2222222222222222,
                            "#7201a8"
                          ],
                          [
                            0.3333333333333333,
                            "#9c179e"
                          ],
                          [
                            0.4444444444444444,
                            "#bd3786"
                          ],
                          [
                            0.5555555555555556,
                            "#d8576b"
                          ],
                          [
                            0.6666666666666666,
                            "#ed7953"
                          ],
                          [
                            0.7777777777777778,
                            "#fb9f3a"
                          ],
                          [
                            0.8888888888888888,
                            "#fdca26"
                          ],
                          [
                            1,
                            "#f0f921"
                          ]
                        ],
                        "type": "histogram2dcontour"
                      }
                    ],
                    "mesh3d": [
                      {
                        "colorbar": {
                          "outlinewidth": 0,
                          "ticks": ""
                        },
                        "type": "mesh3d"
                      }
                    ],
                    "parcoords": [
                      {
                        "line": {
                          "colorbar": {
                            "outlinewidth": 0,
                            "ticks": ""
                          }
                        },
                        "type": "parcoords"
                      }
                    ],
                    "pie": [
                      {
                        "automargin": true,
                        "type": "pie"
                      }
                    ],
                    "scatter": [
                      {
                        "fillpattern": {
                          "fillmode": "overlay",
                          "size": 10,
                          "solidity": 0.2
                        },
                        "type": "scatter"
                      }
                    ],
                    "scatter3d": [
                      {
                        "line": {
                          "colorbar": {
                            "outlinewidth": 0,
                            "ticks": ""
                          }
                        },
                        "marker": {
                          "colorbar": {
                            "outlinewidth": 0,
                            "ticks": ""
                          }
                        },
                        "type": "scatter3d"
                      }
                    ],
                    "scattercarpet": [
                      {
                        "marker": {
                          "colorbar": {
                            "outlinewidth": 0,
                            "ticks": ""
                          }
                        },
                        "type": "scattercarpet"
                      }
                    ],
                    "scattergeo": [
                      {
                        "marker": {
                          "colorbar": {
                            "outlinewidth": 0,
                            "ticks": ""
                          }
                        },
                        "type": "scattergeo"
                      }
                    ],
                    "scattergl": [
                      {
                        "marker": {
                          "colorbar": {
                            "outlinewidth": 0,
                            "ticks": ""
                          }
                        },
                        "type": "scattergl"
                      }
                    ],
                    "scattermap": [
                      {
                        "marker": {
                          "colorbar": {
                            "outlinewidth": 0,
                            "ticks": ""
                          }
                        },
                        "type": "scattermap"
                      }
                    ],
                    "scattermapbox": [
                      {
                        "marker": {
                          "colorbar": {
                            "outlinewidth": 0,
                            "ticks": ""
                          }
                        },
                        "type": "scattermapbox"
                      }
                    ],
                    "scatterpolar": [
                      {
                        "marker": {
                          "colorbar": {
                            "outlinewidth": 0,
                            "ticks": ""
                          }
                        },
                        "type": "scatterpolar"
                      }
                    ],
                    "scatterpolargl": [
                      {
                        "marker": {
                          "colorbar": {
                            "outlinewidth": 0,
                            "ticks": ""
                          }
                        },
                        "type": "scatterpolargl"
                      }
                    ],
                    "scatterternary": [
                      {
                        "marker": {
                          "colorbar": {
                            "outlinewidth": 0,
                            "ticks": ""
                          }
                        },
                        "type": "scatterternary"
                      }
                    ],
                    "surface": [
                      {
                        "colorbar": {
                          "outlinewidth": 0,
                          "ticks": ""
                        },
                        "colorscale": [
                          [
                            0,
                            "#0d0887"
                          ],
                          [
                            0.1111111111111111,
                            "#46039f"
                          ],
                          [
                            0.2222222222222222,
                            "#7201a8"
                          ],
                          [
                            0.3333333333333333,
                            "#9c179e"
                          ],
                          [
                            0.4444444444444444,
                            "#bd3786"
                          ],
                          [
                            0.5555555555555556,
                            "#d8576b"
                          ],
                          [
                            0.6666666666666666,
                            "#ed7953"
                          ],
                          [
                            0.7777777777777778,
                            "#fb9f3a"
                          ],
                          [
                            0.8888888888888888,
                            "#fdca26"
                          ],
                          [
                            1,
                            "#f0f921"
                          ]
                        ],
                        "type": "surface"
                      }
                    ],
                    "table": [
                      {
                        "cells": {
                          "fill": {
                            "color": "#EBF0F8"
                          },
                          "line": {
                            "color": "white"
                          }
                        },
                        "header": {
                          "fill": {
                            "color": "#C8D4E3"
                          },
                          "line": {
                            "color": "white"
                          }
                        },
                        "type": "table"
                      }
                    ]
                  },
                  "layout": {
                    "annotationdefaults": {
                      "arrowcolor": "#2a3f5f",
                      "arrowhead": 0,
                      "arrowwidth": 1
                    },
                    "autotypenumbers": "strict",
                    "coloraxis": {
                      "colorbar": {
                        "outlinewidth": 0,
                        "ticks": ""
                      }
                    },
                    "colorscale": {
                      "diverging": [
                        [
                          0,
                          "#8e0152"
                        ],
                        [
                          0.1,
                          "#c51b7d"
                        ],
                        [
                          0.2,
                          "#de77ae"
                        ],
                        [
                          0.3,
                          "#f1b6da"
                        ],
                        [
                          0.4,
                          "#fde0ef"
                        ],
                        [
                          0.5,
                          "#f7f7f7"
                        ],
                        [
                          0.6,
                          "#e6f5d0"
                        ],
                        [
                          0.7,
                          "#b8e186"
                        ],
                        [
                          0.8,
                          "#7fbc41"
                        ],
                        [
                          0.9,
                          "#4d9221"
                        ],
                        [
                          1,
                          "#276419"
                        ]
                      ],
                      "sequential": [
                        [
                          0,
                          "#0d0887"
                        ],
                        [
                          0.1111111111111111,
                          "#46039f"
                        ],
                        [
                          0.2222222222222222,
                          "#7201a8"
                        ],
                        [
                          0.3333333333333333,
                          "#9c179e"
                        ],
                        [
                          0.4444444444444444,
                          "#bd3786"
                        ],
                        [
                          0.5555555555555556,
                          "#d8576b"
                        ],
                        [
                          0.6666666666666666,
                          "#ed7953"
                        ],
                        [
                          0.7777777777777778,
                          "#fb9f3a"
                        ],
                        [
                          0.8888888888888888,
                          "#fdca26"
                        ],
                        [
                          1,
                          "#f0f921"
                        ]
                      ],
                      "sequentialminus": [
                        [
                          0,
                          "#0d0887"
                        ],
                        [
                          0.1111111111111111,
                          "#46039f"
                        ],
                        [
                          0.2222222222222222,
                          "#7201a8"
                        ],
                        [
                          0.3333333333333333,
                          "#9c179e"
                        ],
                        [
                          0.4444444444444444,
                          "#bd3786"
                        ],
                        [
                          0.5555555555555556,
                          "#d8576b"
                        ],
                        [
                          0.6666666666666666,
                          "#ed7953"
                        ],
                        [
                          0.7777777777777778,
                          "#fb9f3a"
                        ],
                        [
                          0.8888888888888888,
                          "#fdca26"
                        ],
                        [
                          1,
                          "#f0f921"
                        ]
                      ]
                    },
                    "colorway": [
                      "#636efa",
                      "#EF553B",
                      "#00cc96",
                      "#ab63fa",
                      "#FFA15A",
                      "#19d3f3",
                      "#FF6692",
                      "#B6E880",
                      "#FF97FF",
                      "#FECB52"
                    ],
                    "font": {
                      "color": "#2a3f5f"
                    },
                    "geo": {
                      "bgcolor": "white",
                      "lakecolor": "white",
                      "landcolor": "#E5ECF6",
                      "showlakes": true,
                      "showland": true,
                      "subunitcolor": "white"
                    },
                    "hoverlabel": {
                      "align": "left"
                    },
                    "hovermode": "closest",
                    "mapbox": {
                      "style": "light"
                    },
                    "paper_bgcolor": "white",
                    "plot_bgcolor": "#E5ECF6",
                    "polar": {
                      "angularaxis": {
                        "gridcolor": "white",
                        "linecolor": "white",
                        "ticks": ""
                      },
                      "bgcolor": "#E5ECF6",
                      "radialaxis": {
                        "gridcolor": "white",
                        "linecolor": "white",
                        "ticks": ""
                      }
                    },
                    "scene": {
                      "xaxis": {
                        "backgroundcolor": "#E5ECF6",
                        "gridcolor": "white",
                        "gridwidth": 2,
                        "linecolor": "white",
                        "showbackground": true,
                        "ticks": "",
                        "zerolinecolor": "white"
                      },
                      "yaxis": {
                        "backgroundcolor": "#E5ECF6",
                        "gridcolor": "white",
                        "gridwidth": 2,
                        "linecolor": "white",
                        "showbackground": true,
                        "ticks": "",
                        "zerolinecolor": "white"
                      },
                      "zaxis": {
                        "backgroundcolor": "#E5ECF6",
                        "gridcolor": "white",
                        "gridwidth": 2,
                        "linecolor": "white",
                        "showbackground": true,
                        "ticks": "",
                        "zerolinecolor": "white"
                      }
                    },
                    "shapedefaults": {
                      "line": {
                        "color": "#2a3f5f"
                      }
                    },
                    "ternary": {
                      "aaxis": {
                        "gridcolor": "white",
                        "linecolor": "white",
                        "ticks": ""
                      },
                      "baxis": {
                        "gridcolor": "white",
                        "linecolor": "white",
                        "ticks": ""
                      },
                      "bgcolor": "#E5ECF6",
                      "caxis": {
                        "gridcolor": "white",
                        "linecolor": "white",
                        "ticks": ""
                      }
                    },
                    "title": {
                      "x": 0.05
                    },
                    "xaxis": {
                      "automargin": true,
                      "gridcolor": "white",
                      "linecolor": "white",
                      "ticks": "",
                      "title": {
                        "standoff": 15
                      },
                      "zerolinecolor": "white",
                      "zerolinewidth": 2
                    },
                    "yaxis": {
                      "automargin": true,
                      "gridcolor": "white",
                      "linecolor": "white",
                      "ticks": "",
                      "title": {
                        "standoff": 15
                      },
                      "zerolinecolor": "white",
                      "zerolinewidth": 2
                    }
                  }
                },
                "title": {
                  "text": "Histogram of Movies Over the Years (Density)"
                },
                "xaxis": {
                  "anchor": "y",
                  "domain": [
                    0,
                    1
                  ],
                  "title": {
                    "text": "Release Year"
                  }
                },
                "yaxis": {
                  "anchor": "x",
                  "domain": [
                    0,
                    1
                  ],
                  "title": {
                    "text": "probability density"
                  }
                }
              }
            }
          },
          "metadata": {},
          "output_type": "display_data"
        }
      ],
      "source": [
        "import plotly.express as px\n",
        "# Plot histogram with probability density\n",
        "year = px.histogram(movie_data, x='Year', histnorm='probability density',\n",
        "                   nbins=30, title='Histogram of Movies Over the Years (Density)',\n",
        "                   labels={'Year': 'Release Year'})\n",
        "\n",
        "year.update_layout(bargap=0.02)\n",
        "year.show()\n"
      ]
    },
    {
      "cell_type": "code",
      "execution_count": 26,
      "metadata": {
        "colab": {
          "base_uri": "https://localhost:8080/",
          "height": 542
        },
        "id": "eH5biLylXQkZ",
        "outputId": "f39c5cd8-f590-406c-84fe-e93aeade7e51"
      },
      "outputs": [
        {
          "data": {
            "application/vnd.plotly.v1+json": {
              "config": {
                "plotlyServerURL": "https://plot.ly"
              },
              "data": [
                {
                  "hovertemplate": "Genre=Drama<br>Release Year=%{x}<br>Average Rating=%{y}<extra></extra>",
                  "legendgroup": "Drama",
                  "line": {
                    "color": "#636efa",
                    "dash": "solid"
                  },
                  "marker": {
                    "symbol": "circle"
                  },
                  "mode": "lines",
                  "name": "Drama",
                  "orientation": "v",
                  "showlegend": true,
                  "type": "scatter",
                  "x": {
                    "bdata": "iweNB44HjweQB5EHkgeTB5QHlQeWB5cHmAeZB5oHmwecB50HngefB6AHoQeiB6MHpAelB6YHpweoB6kHqgerB6wHrQeuB68HsAexB7IHswe0B7UHtge3B7gHuQe6B7sHvAe9B74HvwfAB8EHwgfDB8QHxQfGB8cHyAfJB8oHywfMB80HzgfPB9AH0QfSB9MH1AfVB9YH1wfYB9kH2gfbB9wH3QfeB98H4AfhB+IH4wfkB+UH",
                    "dtype": "i2"
                  },
                  "xaxis": "x",
                  "y": {
                    "bdata": "AAAAAAAAF0DNzMzMzMwYQAAAAAAAACFAiIiIiIiIGkBnZmZmZmYZQJqZmZmZGRpAMzMzMzMzGECamZmZmZkZQHA9CtejcBtAZmZmZmbmGUAjIiIiIiIbQHVQB3VQBx1AIyIiIiIiHEDd3d3d3d0ZQLy7u7u7uxtAZmZmZmZmG0DNzMzMzIwbQPYoXI/C9RtAOm2g0wY6G0B5SpCnBHkaQCMiIiIioh1AVmqlVmqlHED6xZJfLPkZQEtLS0tLSxtA6YVe6IVeGkCHtW9Y+4YcQK5H4XoUrhlA/WLJL5b8GkDzGsprKK8bQDMzMzMzMxtAA2GkHSsQGkAEeUqQpwQaQOF6FK5H4RpAAAAAAAAAG0DVQR3UQZ0aQDMzMzMzkxpADnTaQKcNGkCamZmZmZkZQHNycnJychtA4yu+4iu+GkDsx37sx34ZQFUacu6zCxpAPOKOuCPuGkAAAAAAAIAaQDMzMzMzcxlAXJ79zeXZGUDpkz7pkz4aQMu3fMu3fBlAuB6F61G4GUAAAAAAAAAaQArXo3A9ChpAwWpax5sTGkCN+3VJ5cMYQCpBnhLkKRlAWHzFV3wFGECptlwljWoXQFTjpZvEIBhAf8nylyx/F0CEuHnyHRkWQHeWsJvfQhZAF3qhF3qhFkCqZJQj0dkVQClGDX+bYhVA37D2DWtfFUDBcwSKthoWQPscUhOMtxZAsJvfQsAoF0AKXk7ByykWQAQ/8AM/8BVAUrgehetRFkA9tiJoOKkVQKuqqqqqahVAPz8/Pz8/FUDLI+gPoOoWQL2vCUHZ+xVABZ840msFF0ChDuqgDuoVQFYi77uIVRZA/SPBW2McFkAjIiIiIpIWQHOWzT9jmhhAxb3sCE3cF0BkIQtZyMIXQMTNk+/IsBdAuZEbuZHbGECSDhvpsJEYQDMzMzMzwxlAoAzmmP7JGUCSxfgrX5IZQAqTMAmTMBtA",
                    "dtype": "f8"
                  },
                  "yaxis": "y"
                },
                {
                  "hovertemplate": "Genre=Musical<br>Release Year=%{x}<br>Average Rating=%{y}<extra></extra>",
                  "legendgroup": "Musical",
                  "line": {
                    "color": "#EF553B",
                    "dash": "solid"
                  },
                  "marker": {
                    "symbol": "circle"
                  },
                  "mode": "lines",
                  "name": "Musical",
                  "orientation": "v",
                  "showlegend": true,
                  "type": "scatter",
                  "x": {
                    "bdata": "jAeQB5YHlweYB5oHmwecB50HngefB6AHoQeiB6MHpAelB6YHpweoB6kHqgerB6wHrQeuB68HsAexB7IHswe0B7UHtge3B7kHuge7B7wHvQe+B78HwAfBB8IHwwfEB8UHxgfHB8gHyQfKB8sHzAfNB84HzwfQB9EH0gfTB9QH1QfWB9cH2AfZB9oH2wfcB90H3gffB+AH4QfiB+MH5AflBw==",
                    "dtype": "i2"
                  },
                  "xaxis": "x",
                  "y": {
                    "bdata": "AAAAAAAAGEAAAAAAAAAaQDMzMzMzMxtAAAAAAAAAHkDNzMzMzMwcQDMzMzMzMx1AzczMzMzMHkBVVVVVVVUbQIiIiIiIiBxAzczMzMzMHEDNzMzMzMwdQJqZmZmZmR1A7+7u7u7uHECZmZmZmZkaQGdmZmZmZhxACtejcD0KHUBmZmZmZmYeQAAAAAAAQBxAWHzFV3zFG0AAAAAAAIAcQHh3d3d3dxxAZmZmZmZmHEDWo3A9CtcZQD0K16NwPR1ADLZgC7ZgG0AzMzMzMzMbQGZmZmZm5hpAmZmZmZmZG0CF61G4HoUbQDqogzqogxpA1qNwPQrXG0D2KFyPwvUcQHh3d3d3dxxA+Yqv+IqvGkDMzMzMzMwbQDMzMzMzsxtANDMzMzMzG0CQwvUoXI8cQD0K16NwPRpAiIiIiIiIG0C8u7u7u7sbQN3d3d3d3RdAMzMzMzMzG0DC9Shcj8IbQDMzMzMzMx1AZmZmZmbmGUAzMzMzMzMfQJqZmZmZmRlAzczMzMzMG0B2UAd1UAcZQERERERERBZAiIiIiIiIFkAzMzMzM7MaQAAAAAAAgBVAAAAAAAAAGEDpoosuuugWQN3d3d3d3RVAK77iK77iF0CQpwR5SpAVQLH2DWvfsBZAQacNdNpAFUClT/qkT/oSQBy5kRu5kRNAERERERERFUBJkiRJkiQVQBERERERERJAvLu7u7u7B0Bf8RVf8RUVQDMzMzMzMxdAAAAAAAAAF0Dv7u7u7u4VQHh3d3d3dxdAZ2ZmZmZmFUC8u7u7u7sPQAAAAAAAABhAMzMzMzMzEkBmZmZmZmYGQJqZmZmZmRVA3d3d3d3dF0BnZmZmZmYQQA==",
                    "dtype": "f8"
                  },
                  "yaxis": "y"
                },
                {
                  "hovertemplate": "Genre=Romance<br>Release Year=%{x}<br>Average Rating=%{y}<extra></extra>",
                  "legendgroup": "Romance",
                  "line": {
                    "color": "#00cc96",
                    "dash": "solid"
                  },
                  "marker": {
                    "symbol": "circle"
                  },
                  "mode": "lines",
                  "name": "Romance",
                  "orientation": "v",
                  "showlegend": true,
                  "type": "scatter",
                  "x": {
                    "bdata": "jAeNB5AHkQeSB5MHlweYB5oHmwecB50HngefB6AHoQeiB6MHpAelB6YHpweoB6kHqgerB6wHrQeuB68HsAexB7IHswe0B7UHtge3B7gHuQe6B7sHvAe9B74HvwfAB8EHwgfDB8QHxQfGB8cHyAfJB8oHywfMB80HzgfPB9AH0QfSB9MH1AfVB9YH1wfYB9kH2gfbB9wH3QfeB98H4AfhB+IH4wfkB+UH",
                    "dtype": "i2"
                  },
                  "xaxis": "x",
                  "y": {
                    "bdata": "AAAAAAAAGEDNzMzMzMwYQGZmZmZmZhlAmpmZmZmZF0DNzMzMzMwUQJqZmZmZmRlAAAAAAAAAHkCrqqqqqqocQGZmZmZmZhxAvLu7u7u7GUCQwvUoXI8cQAAAAAAAABxAAAAAAAAAHEDWo3A9CtcbQGdmZmZmZh1AzczMzMzMHEBmZmZmZuYZQDMzMzMzMx1AHtRBHdRBGUAREREREZEcQDMzMzMzMxtAW7AFW7AFG0AAAAAAAIAbQGZmZmZmJhpAVVVVVVVVG0DlRm7kRm4aQFVVVVVV1RpAMzMzMzPTG0Bdj8L1KFwaQKEO6qAO6hpAMzMzMzNTGkCkHSsQRtoZQDMzMzMzcxtA6bSBThvoGkB00UUXXXQZQM3MzMzMzBpAIIy0YwXCGkDXo3A9CtcbQIiHh4eHhxlA61G4HoXrGkDgsPYNa98aQL7iK77iKxtAREREREREGkBwPQrXo3AaQD4K16NwPRpA5BdLfrHkGUBBnhLkKUEYQLdt27Zt2xhAUrgehetRGUAREREREREZQO/u7u7u7hVAAAAAAACAGUB9w9o3rH0XQAfPESjaahZAMzMzMzMzFkB13mJI5y0UQImIiIiIiBRAtmALtmALE0D4iq/4iq8WQDMzMzMzUxRAtUZrtEZrFkD5iq/4iq8UQAfPESjaahRAh79NMWr4FUBmZmZmZvYTQPOXLH/J8hVA2ktoL6G9EkDT0tLS0tISQNiEoOx9TRRApw102kCnFEAk61x5QLIUQP38/Pz8/BRACe0ltJfQFEBO4ARO4AQWQJmZmZmZmRRAPz8/Pz8/FkDLpVzKpVwVQPQFfUFf0BVATAWtvlTQEkD2cWEfF/YVQBS3QnErFBdAt0JxKxS3GECrqqqqqioXQFn7hrVvWBlA",
                    "dtype": "f8"
                  },
                  "yaxis": "y"
                },
                {
                  "hovertemplate": "Genre=Adventure<br>Release Year=%{x}<br>Average Rating=%{y}<extra></extra>",
                  "legendgroup": "Adventure",
                  "line": {
                    "color": "#ab63fa",
                    "dash": "solid"
                  },
                  "marker": {
                    "symbol": "circle"
                  },
                  "mode": "lines",
                  "name": "Adventure",
                  "orientation": "v",
                  "showlegend": true,
                  "type": "scatter",
                  "x": {
                    "bdata": "jgePB5AHkQeSB5MHlAeWB6AHoQeiB6MHpAelB6YHpweoB6kHqgerB6wHrQeuB68HsAexB7MHtAe3B7gHuQe6B7sHvAe9B74HvwfAB8EHwgfDB8QHxQfHB8gHyQfKB8wHzQfOB9AH0QfSB9MH1AfVB9YH1wfYB9kH2gfbB9wH3QfeB98H4AfhB+IH4wfkB+UH",
                    "dtype": "i2"
                  },
                  "xaxis": "x",
                  "y": {
                    "bdata": "mpmZmZmZBUAzMzMzMzMRQM3MzMzMzAhAMzMzMzMzC0CamZmZmZkZQGZmZmZmZhpAZmZmZmZmGEBmZmZmZmYaQGdmZmZmZhpAMzMzMzMzHUAREREREREZQAAAAAAAABhAmpmZmZkZGEB4d3d3d3cbQGZmZmZm5hVAzczMzMzMGEDMzMzMzMwZQJqZmZmZmR1AmpmZmZmZG0B7FK5H4XoYQCMiIiIiIhdAPQrXo3A9GkBI4XoUrkcXQDMzMzMzMxdANDMzMzMzF0AAAAAAAAAaQJmZmZmZmRtAmpmZmZmZGkAAAAAAAAAaQM3MzMzMzBpAH4XrUbgeGUDNzMzMzEwYQOIrvuIrvhpAmpmZmZmZGkDWo3A9CtcZQDMzMzMzMxdAMzMzMzMzH0DNzMzMzMwbQJqZmZmZmRVAo3A9CtejGkBmZmZmZmYUQIiIiIiIiBhAMzMzMzMzB0BEREREREQYQDMzMzMzMxZANDMzMzMzHEAzMzMzMzMfQAAAAAAAABhAzczMzMzMF0Dd3d3d3d0VQHsUrkfhehRAzczMzMzMGkDd3d3d3d0VQM3MzMzMzBNAMzMzMzMzC0BVVVVVVVUVQOqgDuqgDhhAmZmZmZmZFUDrUbgehesNQGZmZmZmZhJAWHzFV3zFE0AzMzMzMzMPQJqZmZmZWRhAAAAAAADAGUBmZmZmZmYWQJmZmZmZmRhA4LD2DWvfGEAOa9+w9g0XQJqZmZmZmRpAq6qqqqoqF0A0MzMzMzMaQAAAAAAAABpA",
                    "dtype": "f8"
                  },
                  "yaxis": "y"
                },
                {
                  "hovertemplate": "Genre=Action<br>Release Year=%{x}<br>Average Rating=%{y}<extra></extra>",
                  "legendgroup": "Action",
                  "line": {
                    "color": "#FFA15A",
                    "dash": "solid"
                  },
                  "marker": {
                    "symbol": "circle"
                  },
                  "mode": "lines",
                  "name": "Action",
                  "orientation": "v",
                  "showlegend": true,
                  "type": "scatter",
                  "x": {
                    "bdata": "jweTB5QHnwegB6EHogejB6QHpQemB6cHqAepB6oHqwesB60HrgevB7AHsQeyB7MHtAe1B7YHtwe4B7kHuge7B7wHvQe+B78HwAfBB8IHwwfEB8UHxgfHB8gHyQfKB8sHzAfNB84HzwfQB9EH0gfTB9QH1QfWB9cH2AfZB9oH2wfcB90H3gffB+AH4QfiB+MH5AflBw==",
                    "dtype": "i2"
                  },
                  "xaxis": "x",
                  "y": {
                    "bdata": "AAAAAAAAEkBmZmZmZmYaQGZmZmZmZhhANDMzMzMzGkDNzMzMzMwbQMzMzMzMzBdAmpmZmZmZGEAzMzMzMzMZQM3MzMzMzBhAMzMzMzMzG0AjIiIiIiIYQGZmZmZm5hhAkML1KFyPGkAAAAAAAAAZQKuqqqqqqhZAj8L1KFyPGEDNzMzMzMwWQHVQB3VQBxlAAAAAAABAGUAREREREREYQM3MzMzMzBhASOF6FK5HGUBLrdRKrdQYQLdt27Zt2xhAdnV1dXV1F0DhehSuR+EYQKEXeqEXehlAxld8xVd8GUBOTk5OTk4YQK7USq3UShdAzczMzMwMGUAN5TWU11AYQEFg5dAi2xlAmZmZmZmZGEC7SQwCK4cYQJD92I/92BdA/WLJL5b8FkDNzMzMzMwWQDtXHpCscxdAQZ4S5ClBFkDBRH8nq+UVQCELWchCFhZAwkg7ViCMFUD2KFyPwrUUQJ3+iAXc6RVAMzMzMzMzFUCSJEmSJEkUQK0pa8qashRAPusGU+SzFEBG2rECYaQUQPsjFnCnPxRA61G4HoUrFUDICoSRdqwTQIwxxhhjjBVAHc7hHM7hFEBVVVVVVVUTQK0pa8qashRAfRj365LKFUAzMzMzMzMTQOxRuB6F6xRA8RVf8RXfE0DKayivobwTQMdxHMdxHBVAKkGeEuQpFUBP7MRO7MQVQHACJ3ACJxVAx3Ecx3GcFECh7H1NCMoWQBhpxwqEkRZA2fuaEJS9F0BCQkJCQkIXQA8PDw8PDxdAL90kBoGVF0BmZmZmZqYXQA==",
                    "dtype": "f8"
                  },
                  "yaxis": "y"
                },
                {
                  "hovertemplate": "Genre=Family<br>Release Year=%{x}<br>Average Rating=%{y}<extra></extra>",
                  "legendgroup": "Family",
                  "line": {
                    "color": "#19d3f3",
                    "dash": "solid"
                  },
                  "marker": {
                    "symbol": "circle"
                  },
                  "mode": "lines",
                  "name": "Family",
                  "orientation": "v",
                  "showlegend": true,
                  "type": "scatter",
                  "x": {
                    "bdata": "kQeWB5cHnAedB54HnwehB6IHowelB6YHpweoB6kHqgerB6wHrQeuB68HsAexB7IHswe0B7UHtge3B7gHuQe6B7sHvAe9B74HvwfAB8EHwgfDB8QHxQfGB8cHyAfJB8oHywfMB80HzgfPB9AH0QfSB9MH1AfVB9YH1wfYB9kH2gfbB9wH3QfeB98H4AfhB+IH4wfkB+UH",
                    "dtype": "i2"
                  },
                  "xaxis": "x",
                  "y": {
                    "bdata": "mpmZmZmZF0DNzMzMzMwYQM3MzMzMzBxAZmZmZmZmGkBVVVVVVVUbQGZmZmZmZhtAAAAAAAAAHEAzMzMzMzMcQM3MzMzMTBpAAAAAAAAAHUAehetRuB4dQAAAAAAAABpAAAAAAAAAGkBmZmZmZmYaQGdmZmZmZhpAUrgehetRGkBmZmZmZmYaQAAAAAAAgBtAzczMzMxMGkBnZmZmZmYaQKuqqqqqqhlA3d3d3d3dGUChDuqgDuoYQM3MzMzMzBlAexSuR+F6GkDNzMzMzEwaQF/xFV/xFRlAVVVVVVVVG0BVVVVVVVUZQK5H4XoUrhlAMzMzMzMzG0DCFmzBFmwbQLH2DWvfsBhA3d3d3d3dGEB9w9o3rH0bQKEXeqEXehlAhetRuB6FGUCUPumTPukXQN3d3d3d3RhA4noUrkfhGkAzMzMzMzMXQFVVVVVVVRVACtejcD0KGEAAAAAAAAASQGZmZmZmZhBAVVVVVVVVF0AzMzMzMzMXQMzMzMzMzBdAzMzMzMzMDkAAAAAAAAAWQKuqqqqqqhpAzczMzMzMEkDNzMzMzMwYQKuqqqqqqhlAmZmZmZmZFEBcj8L1KFwZQM3MzMzMzBRAiIiIiIiIFkAWX/EVX/EXQJqZmZmZmRZAKlyPwvUoGkCSJEmSJEkUQAAAAAAAABhAPumTPumTGEC3bdu2bdsYQLrooosuuhhAmZmZmZmZGkCrqqqqqqoVQH3SJ33SJxdAmpmZmZkZG0DCFmzBFmwZQMdxHMdxHBlAZ2ZmZmZmHkBnZmZmZmYeQAAAAAAAgB1A",
                    "dtype": "f8"
                  },
                  "yaxis": "y"
                },
                {
                  "hovertemplate": "Genre=Mystery<br>Release Year=%{x}<br>Average Rating=%{y}<extra></extra>",
                  "legendgroup": "Mystery",
                  "line": {
                    "color": "#FF6692",
                    "dash": "solid"
                  },
                  "marker": {
                    "symbol": "circle"
                  },
                  "mode": "lines",
                  "name": "Mystery",
                  "orientation": "v",
                  "showlegend": true,
                  "type": "scatter",
                  "x": {
                    "bdata": "lQeXB50HngegB6UHpgenB6gHqgerB6wHrQeuB68HsAexB7IHswe1B7YHtwe5B7oHuwe8B70HvgfAB8EHwgfDB8QHxQfHB8gHyQfKB8wHzQfOB88H0AfRB9IH0wfUB9UH1gfXB9gH2QfaB9sH3AfdB94H3wfgB+EH4gfjB+QH5Qc=",
                    "dtype": "i2"
                  },
                  "xaxis": "x",
                  "y": {
                    "bdata": "AAAAAAAAHEBmZmZmZmYKQGZmZmZmZhxAZmZmZmZmHEAzMzMzMzMdQAAAAAAAABpAAAAAAAAAHEAAAAAAAAAbQM3MzMzMzBtAzMzMzMzMG0DNzMzMzMwWQDMzMzMzMx1AREREREREGkCamZmZmRkaQGdmZmZmZhtAzczMzMzMG0DNzMzMzEwbQAAAAAAAABpAvLu7u7u7G0BEREREREQaQKuqqqqqqhpA9ihcj8L1GEAAAAAAAAAaQJqZmZmZmRlAMzMzMzMzGEAAAAAAAIAYQPYoXI/C9RhAMzMzMzMzHUAzMzMzMzMTQM3MzMzMzBRAmpmZmZmZHEBmZmZmZmYUQAAAAAAAABhAAAAAAACAGEAAAAAAAAAQQM3MzMzMzBxAmpmZmZkZFECamZmZmZkRQAAAAAAAABRAAAAAAAAAF0AAAAAAAAAOQDMzMzMzMx9AIiIiIiIiFEBVVVVVVVUXQMzMzMzMzBVAMzMzMzOzEkB3d3d3d3cTQGoDnTbQaRVAERERERERFUDv7u7u7u4YQHE9CtejcBZA7MRO7MROFkCamZmZmZkVQAd1UAd1UBVAMzMzMzMzGEAP6qAO6qASQEmSJEmSJBVAiIiIiIiIF0BERERERMQWQFZqpVZqpRZASpCnBHlKFkAUO7ETO7EbQIXrUbgehRhAAAAAAAAAFkA=",
                    "dtype": "f8"
                  },
                  "yaxis": "y"
                },
                {
                  "hovertemplate": "Genre=Comedy<br>Release Year=%{x}<br>Average Rating=%{y}<extra></extra>",
                  "legendgroup": "Comedy",
                  "line": {
                    "color": "#B6E880",
                    "dash": "solid"
                  },
                  "marker": {
                    "symbol": "circle"
                  },
                  "mode": "lines",
                  "name": "Comedy",
                  "orientation": "v",
                  "showlegend": true,
                  "type": "scatter",
                  "x": {
                    "bdata": "lweaB5sHnQeeB58HoAehB6IHowekB6UHpgenB6gHqQeqB6sHrAetB64HrwewB7EHsgezB7QHtQe2B7cHuAe5B7oHuwe8B70Hvge/B8AHwQfCB8MHxAfFB8YHxwfIB8kHygfLB8wHzQfOB88H0AfRB9IH0wfUB9UH1gfXB9gH2QfaB9sH3AfdB94H3wfgB+EH4gfjB+QH5Qc=",
                    "dtype": "i2"
                  },
                  "xaxis": "x",
                  "y": {
                    "bdata": "mpmZmZmZG0AAAAAAAAAaQJqZmZmZmR1AmpmZmZmZGUBmZmZmZmYcQJqZmZmZmRpAmpmZmZmZHUDNzMzMzMwaQN3d3d3d3RtAcD0K16NwHED0SZ/0SZ8aQAAAAAAAABxAAAAAAAAAHkDNzMzMzMwdQGZmZmZm5hpAd3d3d3d3G0De3d3d3d0ZQPEVX/EVXxtAmZmZmZmZGkBmZmZmZmYYQMlTgjwlyBtAAAAAAAAAGkDd3d3d3d0YQFuwBVuwBRlAW7AFW7AFG0B7FK5H4XoaQPEVX/EVXxlAmpmZmZkZGUBVVVVVVVUaQEjhehSuRxpAxld8xVd8G0BnZmZmZuYZQIwuuuiiixpAMzMzMzMzGkBmZmZmZmYbQLrooosuuhpA7+7u7u5uGkCamZmZmbkZQFh8xVd8xRlAuR6F61G4GEAzMzMzMzMZQAAAAAAAABhAoQ7qoA7qGEDv7u7u7u4WQHsUrkfhehdAj8L1KFyPFkBEREREREQYQAAAAAAAgBZAPgrXo3A9F0CSJEmSJEkWQM3MzMzMLBdAKH3SJ33SFkAVrkfhehQXQK5H4XoUrhRAmpmZmZl5E0DtWIEw0o4VQP2eW+LU7xNAMzMzMzOzFUDNzMzMzMwTQFD6pE/6pBVAMzMzMzMzFkD2KFyPwjUWQOh5nud5nhRAS3HI2GuXFUBPjZduEoMWQBRytS48IRVAL/RCL/TCFUA2eI5A0VYVQJqZmZmZmRVAJb9Y8oulFUBERERERMQUQB0dHR0dHRdAdVAHdVDHFkDZtYmSXZsXQGmQBmmQBhdANDMzMzMzGUA=",
                    "dtype": "f8"
                  },
                  "yaxis": "y"
                },
                {
                  "hovertemplate": "Genre=Crime<br>Release Year=%{x}<br>Average Rating=%{y}<extra></extra>",
                  "legendgroup": "Crime",
                  "line": {
                    "color": "#FF97FF",
                    "dash": "solid"
                  },
                  "marker": {
                    "symbol": "circle"
                  },
                  "mode": "lines",
                  "name": "Crime",
                  "orientation": "v",
                  "showlegend": true,
                  "type": "scatter",
                  "x": {
                    "bdata": "nQeeB58HoAehB6IHowekB6UHpgenB6gHqQeqB6sHrQeuB68HsAexB7IHswe0B7UHtge3B7gHuQe6B7sHvAe9B74HvwfAB8EHwgfDB8QHxQfGB8cHyAfJB8oHywfMB80HzgfPB9AH0QfSB9MH1AfVB9YH1wfYB9kH2gfbB9wH3QfeB98H4AfhB+IH4wfkB+UH",
                    "dtype": "i2"
                  },
                  "xaxis": "x",
                  "y": {
                    "bdata": "zczMzMzMHUBmZmZmZmYcQDMzMzMzMx1AzczMzMzMHEAzMzMzMzMeQM3MzMzMzBhAUrgehetRGkDd3d3d3d0ZQDMzMzMzMxxAVVVVVVVVG0DMzMzMzMwbQOJ6FK5H4RxAmZmZmZmZGUDNzMzMzMwWQKuqqqqqqhpAZmZmZmZmGUAAAAAAAAAaQFAHdVAHdRpAcT0K16NwGUAzMzMzMzMaQHE9CtejcBdAVVVVVVVVGUDv7u7u7u4XQAAAAAAAABhAzczMzMxMGUBmZmZmZqYYQBdddNFFFxlA4iu+4iu+GEAREREREREYQM3MzMzMTBpAMzMzMzMzGkBh7RvWvmEZQA/qoA7qoBhAX/EVX/EVG0ChDuqgDuoWQJ7YiZ3YiRdAAAAAAAAAGkBdj8L1KFwXQHBY+4a1bxhAxld8xVf8FUBRUVFRUVEVQFK4HoXrURNAQi/0Qi/0FkAAAAAAAAAXQBERERERkRNAMzMzMzMzFUB90id90icVQPEVX/EVXxdAoRd6oRd6F0BQB3VQB3UXQFzi1O+5JRRAAAAAAAAAFEAe1EEd1EEWQIiIiIiIiBdAwQmcwAmcFkA9z/M8z/MWQMqHcb8uqRRAD0jWufKAFEDNzMzMzFwWQO7t7e3t7RVAdnV1dXV1FkD+TlbLGyMWQE8J8pQgTxZA17nygGSdFUCo4W9TjBoYQJmZmZmZmRlAeHd3d3e3GED2KFyPwnUYQDMzMzMzkxdAGffrksqHGUDLh3G/LqkaQHsUrkfhehZA",
                    "dtype": "f8"
                  },
                  "yaxis": "y"
                },
                {
                  "hovertemplate": "Genre=Thriller<br>Release Year=%{x}<br>Average Rating=%{y}<extra></extra>",
                  "legendgroup": "Thriller",
                  "line": {
                    "color": "#FECB52",
                    "dash": "solid"
                  },
                  "marker": {
                    "symbol": "circle"
                  },
                  "mode": "lines",
                  "name": "Thriller",
                  "orientation": "v",
                  "showlegend": true,
                  "type": "scatter",
                  "x": {
                    "bdata": "oAeiB6UHpgenB6gHqgesB60HrgevB7AHsQeyB7MHtAe1B7YHtwe4B7kHuge7B7wHvQe+B78HwAfBB8IHwwfEB8UHxgfHB8gHyQfKB8sHzAfNB84HzwfQB9EH0gfTB9QH1QfWB9cH2AfZB9oH2wfcB90H3gffB+AH4QfiB+MH5AflBw==",
                    "dtype": "i2"
                  },
                  "xaxis": "x",
                  "y": {
                    "bdata": "zczMzMzMHEBmZmZmZmYaQDMzMzMzMxtA7+7u7u7uGEDNzMzMzMwaQJqZmZmZmRlAzMzMzMzMG0BEREREREQaQM3MzMzMTBtAAAAAAAAAGEDv7u7u7u4aQGZmZmZm5hpAAAAAAAAAGkAzMzMzM7MaQN3d3d3d3RlAAAAAAAAAGkD0SZ/0SZ8YQGZmZmZmZhpAMzMzMzNzGEBmZmZmZmYZQO/u7u7u7hZAMzMzMzMzG0C8u7u7u7sZQDMzMzMzcxhAd3d3d3d3GUCbmZmZmZkXQAAAAAAAABJAAAAAAAAAF0CZmZmZmZkYQPRJn/RJnxpAZ2ZmZmZmFkBmZmZmZmYVQAAAAAAAABhAMzMzMzMzFkA+6ZM+6ZMWQLD4iq/4ihdAbMEWbMEWFECkcD0K16MXQArXo3A9ChdAXI/C9ShcEkDNzMzMzMwTQGZmZmZmZhJAZ2ZmZmZmFkDbtm3btm0VQJqZmZmZmRdAj8L1KFyPFEDNzMzMzKwTQFFeQ3kN5RNA4Qd+4Ad+EkC8u7u7u7sUQDMzMzMzMxFA7+7u7u5uFkCZmZmZmRkYQM3MzMzM7BRAXI/C9SjcFkBaozVaozUUQJqZmZmZmRVAkiRJkiTJFUDYgi3Ygi0XQGZmZmZmphhAAAAAAAAAGEAAAAAAABAWQMnJycnJyRZALbKd76fGFUBr37D2DWsVQA==",
                    "dtype": "f8"
                  },
                  "yaxis": "y"
                }
              ],
              "layout": {
                "legend": {
                  "title": {
                    "text": "Genre"
                  },
                  "tracegroupgap": 0
                },
                "template": {
                  "data": {
                    "bar": [
                      {
                        "error_x": {
                          "color": "#2a3f5f"
                        },
                        "error_y": {
                          "color": "#2a3f5f"
                        },
                        "marker": {
                          "line": {
                            "color": "#E5ECF6",
                            "width": 0.5
                          },
                          "pattern": {
                            "fillmode": "overlay",
                            "size": 10,
                            "solidity": 0.2
                          }
                        },
                        "type": "bar"
                      }
                    ],
                    "barpolar": [
                      {
                        "marker": {
                          "line": {
                            "color": "#E5ECF6",
                            "width": 0.5
                          },
                          "pattern": {
                            "fillmode": "overlay",
                            "size": 10,
                            "solidity": 0.2
                          }
                        },
                        "type": "barpolar"
                      }
                    ],
                    "carpet": [
                      {
                        "aaxis": {
                          "endlinecolor": "#2a3f5f",
                          "gridcolor": "white",
                          "linecolor": "white",
                          "minorgridcolor": "white",
                          "startlinecolor": "#2a3f5f"
                        },
                        "baxis": {
                          "endlinecolor": "#2a3f5f",
                          "gridcolor": "white",
                          "linecolor": "white",
                          "minorgridcolor": "white",
                          "startlinecolor": "#2a3f5f"
                        },
                        "type": "carpet"
                      }
                    ],
                    "choropleth": [
                      {
                        "colorbar": {
                          "outlinewidth": 0,
                          "ticks": ""
                        },
                        "type": "choropleth"
                      }
                    ],
                    "contour": [
                      {
                        "colorbar": {
                          "outlinewidth": 0,
                          "ticks": ""
                        },
                        "colorscale": [
                          [
                            0,
                            "#0d0887"
                          ],
                          [
                            0.1111111111111111,
                            "#46039f"
                          ],
                          [
                            0.2222222222222222,
                            "#7201a8"
                          ],
                          [
                            0.3333333333333333,
                            "#9c179e"
                          ],
                          [
                            0.4444444444444444,
                            "#bd3786"
                          ],
                          [
                            0.5555555555555556,
                            "#d8576b"
                          ],
                          [
                            0.6666666666666666,
                            "#ed7953"
                          ],
                          [
                            0.7777777777777778,
                            "#fb9f3a"
                          ],
                          [
                            0.8888888888888888,
                            "#fdca26"
                          ],
                          [
                            1,
                            "#f0f921"
                          ]
                        ],
                        "type": "contour"
                      }
                    ],
                    "contourcarpet": [
                      {
                        "colorbar": {
                          "outlinewidth": 0,
                          "ticks": ""
                        },
                        "type": "contourcarpet"
                      }
                    ],
                    "heatmap": [
                      {
                        "colorbar": {
                          "outlinewidth": 0,
                          "ticks": ""
                        },
                        "colorscale": [
                          [
                            0,
                            "#0d0887"
                          ],
                          [
                            0.1111111111111111,
                            "#46039f"
                          ],
                          [
                            0.2222222222222222,
                            "#7201a8"
                          ],
                          [
                            0.3333333333333333,
                            "#9c179e"
                          ],
                          [
                            0.4444444444444444,
                            "#bd3786"
                          ],
                          [
                            0.5555555555555556,
                            "#d8576b"
                          ],
                          [
                            0.6666666666666666,
                            "#ed7953"
                          ],
                          [
                            0.7777777777777778,
                            "#fb9f3a"
                          ],
                          [
                            0.8888888888888888,
                            "#fdca26"
                          ],
                          [
                            1,
                            "#f0f921"
                          ]
                        ],
                        "type": "heatmap"
                      }
                    ],
                    "histogram": [
                      {
                        "marker": {
                          "pattern": {
                            "fillmode": "overlay",
                            "size": 10,
                            "solidity": 0.2
                          }
                        },
                        "type": "histogram"
                      }
                    ],
                    "histogram2d": [
                      {
                        "colorbar": {
                          "outlinewidth": 0,
                          "ticks": ""
                        },
                        "colorscale": [
                          [
                            0,
                            "#0d0887"
                          ],
                          [
                            0.1111111111111111,
                            "#46039f"
                          ],
                          [
                            0.2222222222222222,
                            "#7201a8"
                          ],
                          [
                            0.3333333333333333,
                            "#9c179e"
                          ],
                          [
                            0.4444444444444444,
                            "#bd3786"
                          ],
                          [
                            0.5555555555555556,
                            "#d8576b"
                          ],
                          [
                            0.6666666666666666,
                            "#ed7953"
                          ],
                          [
                            0.7777777777777778,
                            "#fb9f3a"
                          ],
                          [
                            0.8888888888888888,
                            "#fdca26"
                          ],
                          [
                            1,
                            "#f0f921"
                          ]
                        ],
                        "type": "histogram2d"
                      }
                    ],
                    "histogram2dcontour": [
                      {
                        "colorbar": {
                          "outlinewidth": 0,
                          "ticks": ""
                        },
                        "colorscale": [
                          [
                            0,
                            "#0d0887"
                          ],
                          [
                            0.1111111111111111,
                            "#46039f"
                          ],
                          [
                            0.2222222222222222,
                            "#7201a8"
                          ],
                          [
                            0.3333333333333333,
                            "#9c179e"
                          ],
                          [
                            0.4444444444444444,
                            "#bd3786"
                          ],
                          [
                            0.5555555555555556,
                            "#d8576b"
                          ],
                          [
                            0.6666666666666666,
                            "#ed7953"
                          ],
                          [
                            0.7777777777777778,
                            "#fb9f3a"
                          ],
                          [
                            0.8888888888888888,
                            "#fdca26"
                          ],
                          [
                            1,
                            "#f0f921"
                          ]
                        ],
                        "type": "histogram2dcontour"
                      }
                    ],
                    "mesh3d": [
                      {
                        "colorbar": {
                          "outlinewidth": 0,
                          "ticks": ""
                        },
                        "type": "mesh3d"
                      }
                    ],
                    "parcoords": [
                      {
                        "line": {
                          "colorbar": {
                            "outlinewidth": 0,
                            "ticks": ""
                          }
                        },
                        "type": "parcoords"
                      }
                    ],
                    "pie": [
                      {
                        "automargin": true,
                        "type": "pie"
                      }
                    ],
                    "scatter": [
                      {
                        "fillpattern": {
                          "fillmode": "overlay",
                          "size": 10,
                          "solidity": 0.2
                        },
                        "type": "scatter"
                      }
                    ],
                    "scatter3d": [
                      {
                        "line": {
                          "colorbar": {
                            "outlinewidth": 0,
                            "ticks": ""
                          }
                        },
                        "marker": {
                          "colorbar": {
                            "outlinewidth": 0,
                            "ticks": ""
                          }
                        },
                        "type": "scatter3d"
                      }
                    ],
                    "scattercarpet": [
                      {
                        "marker": {
                          "colorbar": {
                            "outlinewidth": 0,
                            "ticks": ""
                          }
                        },
                        "type": "scattercarpet"
                      }
                    ],
                    "scattergeo": [
                      {
                        "marker": {
                          "colorbar": {
                            "outlinewidth": 0,
                            "ticks": ""
                          }
                        },
                        "type": "scattergeo"
                      }
                    ],
                    "scattergl": [
                      {
                        "marker": {
                          "colorbar": {
                            "outlinewidth": 0,
                            "ticks": ""
                          }
                        },
                        "type": "scattergl"
                      }
                    ],
                    "scattermap": [
                      {
                        "marker": {
                          "colorbar": {
                            "outlinewidth": 0,
                            "ticks": ""
                          }
                        },
                        "type": "scattermap"
                      }
                    ],
                    "scattermapbox": [
                      {
                        "marker": {
                          "colorbar": {
                            "outlinewidth": 0,
                            "ticks": ""
                          }
                        },
                        "type": "scattermapbox"
                      }
                    ],
                    "scatterpolar": [
                      {
                        "marker": {
                          "colorbar": {
                            "outlinewidth": 0,
                            "ticks": ""
                          }
                        },
                        "type": "scatterpolar"
                      }
                    ],
                    "scatterpolargl": [
                      {
                        "marker": {
                          "colorbar": {
                            "outlinewidth": 0,
                            "ticks": ""
                          }
                        },
                        "type": "scatterpolargl"
                      }
                    ],
                    "scatterternary": [
                      {
                        "marker": {
                          "colorbar": {
                            "outlinewidth": 0,
                            "ticks": ""
                          }
                        },
                        "type": "scatterternary"
                      }
                    ],
                    "surface": [
                      {
                        "colorbar": {
                          "outlinewidth": 0,
                          "ticks": ""
                        },
                        "colorscale": [
                          [
                            0,
                            "#0d0887"
                          ],
                          [
                            0.1111111111111111,
                            "#46039f"
                          ],
                          [
                            0.2222222222222222,
                            "#7201a8"
                          ],
                          [
                            0.3333333333333333,
                            "#9c179e"
                          ],
                          [
                            0.4444444444444444,
                            "#bd3786"
                          ],
                          [
                            0.5555555555555556,
                            "#d8576b"
                          ],
                          [
                            0.6666666666666666,
                            "#ed7953"
                          ],
                          [
                            0.7777777777777778,
                            "#fb9f3a"
                          ],
                          [
                            0.8888888888888888,
                            "#fdca26"
                          ],
                          [
                            1,
                            "#f0f921"
                          ]
                        ],
                        "type": "surface"
                      }
                    ],
                    "table": [
                      {
                        "cells": {
                          "fill": {
                            "color": "#EBF0F8"
                          },
                          "line": {
                            "color": "white"
                          }
                        },
                        "header": {
                          "fill": {
                            "color": "#C8D4E3"
                          },
                          "line": {
                            "color": "white"
                          }
                        },
                        "type": "table"
                      }
                    ]
                  },
                  "layout": {
                    "annotationdefaults": {
                      "arrowcolor": "#2a3f5f",
                      "arrowhead": 0,
                      "arrowwidth": 1
                    },
                    "autotypenumbers": "strict",
                    "coloraxis": {
                      "colorbar": {
                        "outlinewidth": 0,
                        "ticks": ""
                      }
                    },
                    "colorscale": {
                      "diverging": [
                        [
                          0,
                          "#8e0152"
                        ],
                        [
                          0.1,
                          "#c51b7d"
                        ],
                        [
                          0.2,
                          "#de77ae"
                        ],
                        [
                          0.3,
                          "#f1b6da"
                        ],
                        [
                          0.4,
                          "#fde0ef"
                        ],
                        [
                          0.5,
                          "#f7f7f7"
                        ],
                        [
                          0.6,
                          "#e6f5d0"
                        ],
                        [
                          0.7,
                          "#b8e186"
                        ],
                        [
                          0.8,
                          "#7fbc41"
                        ],
                        [
                          0.9,
                          "#4d9221"
                        ],
                        [
                          1,
                          "#276419"
                        ]
                      ],
                      "sequential": [
                        [
                          0,
                          "#0d0887"
                        ],
                        [
                          0.1111111111111111,
                          "#46039f"
                        ],
                        [
                          0.2222222222222222,
                          "#7201a8"
                        ],
                        [
                          0.3333333333333333,
                          "#9c179e"
                        ],
                        [
                          0.4444444444444444,
                          "#bd3786"
                        ],
                        [
                          0.5555555555555556,
                          "#d8576b"
                        ],
                        [
                          0.6666666666666666,
                          "#ed7953"
                        ],
                        [
                          0.7777777777777778,
                          "#fb9f3a"
                        ],
                        [
                          0.8888888888888888,
                          "#fdca26"
                        ],
                        [
                          1,
                          "#f0f921"
                        ]
                      ],
                      "sequentialminus": [
                        [
                          0,
                          "#0d0887"
                        ],
                        [
                          0.1111111111111111,
                          "#46039f"
                        ],
                        [
                          0.2222222222222222,
                          "#7201a8"
                        ],
                        [
                          0.3333333333333333,
                          "#9c179e"
                        ],
                        [
                          0.4444444444444444,
                          "#bd3786"
                        ],
                        [
                          0.5555555555555556,
                          "#d8576b"
                        ],
                        [
                          0.6666666666666666,
                          "#ed7953"
                        ],
                        [
                          0.7777777777777778,
                          "#fb9f3a"
                        ],
                        [
                          0.8888888888888888,
                          "#fdca26"
                        ],
                        [
                          1,
                          "#f0f921"
                        ]
                      ]
                    },
                    "colorway": [
                      "#636efa",
                      "#EF553B",
                      "#00cc96",
                      "#ab63fa",
                      "#FFA15A",
                      "#19d3f3",
                      "#FF6692",
                      "#B6E880",
                      "#FF97FF",
                      "#FECB52"
                    ],
                    "font": {
                      "color": "#2a3f5f"
                    },
                    "geo": {
                      "bgcolor": "white",
                      "lakecolor": "white",
                      "landcolor": "#E5ECF6",
                      "showlakes": true,
                      "showland": true,
                      "subunitcolor": "white"
                    },
                    "hoverlabel": {
                      "align": "left"
                    },
                    "hovermode": "closest",
                    "mapbox": {
                      "style": "light"
                    },
                    "paper_bgcolor": "white",
                    "plot_bgcolor": "#E5ECF6",
                    "polar": {
                      "angularaxis": {
                        "gridcolor": "white",
                        "linecolor": "white",
                        "ticks": ""
                      },
                      "bgcolor": "#E5ECF6",
                      "radialaxis": {
                        "gridcolor": "white",
                        "linecolor": "white",
                        "ticks": ""
                      }
                    },
                    "scene": {
                      "xaxis": {
                        "backgroundcolor": "#E5ECF6",
                        "gridcolor": "white",
                        "gridwidth": 2,
                        "linecolor": "white",
                        "showbackground": true,
                        "ticks": "",
                        "zerolinecolor": "white"
                      },
                      "yaxis": {
                        "backgroundcolor": "#E5ECF6",
                        "gridcolor": "white",
                        "gridwidth": 2,
                        "linecolor": "white",
                        "showbackground": true,
                        "ticks": "",
                        "zerolinecolor": "white"
                      },
                      "zaxis": {
                        "backgroundcolor": "#E5ECF6",
                        "gridcolor": "white",
                        "gridwidth": 2,
                        "linecolor": "white",
                        "showbackground": true,
                        "ticks": "",
                        "zerolinecolor": "white"
                      }
                    },
                    "shapedefaults": {
                      "line": {
                        "color": "#2a3f5f"
                      }
                    },
                    "ternary": {
                      "aaxis": {
                        "gridcolor": "white",
                        "linecolor": "white",
                        "ticks": ""
                      },
                      "baxis": {
                        "gridcolor": "white",
                        "linecolor": "white",
                        "ticks": ""
                      },
                      "bgcolor": "#E5ECF6",
                      "caxis": {
                        "gridcolor": "white",
                        "linecolor": "white",
                        "ticks": ""
                      }
                    },
                    "title": {
                      "x": 0.05
                    },
                    "xaxis": {
                      "automargin": true,
                      "gridcolor": "white",
                      "linecolor": "white",
                      "ticks": "",
                      "title": {
                        "standoff": 15
                      },
                      "zerolinecolor": "white",
                      "zerolinewidth": 2
                    },
                    "yaxis": {
                      "automargin": true,
                      "gridcolor": "white",
                      "linecolor": "white",
                      "ticks": "",
                      "title": {
                        "standoff": 15
                      },
                      "zerolinecolor": "white",
                      "zerolinewidth": 2
                    }
                  }
                },
                "title": {
                  "text": "Average Rating by Genre Over the Years"
                },
                "xaxis": {
                  "anchor": "y",
                  "domain": [
                    0,
                    1
                  ],
                  "title": {
                    "text": "Year"
                  }
                },
                "yaxis": {
                  "anchor": "x",
                  "domain": [
                    0,
                    1
                  ],
                  "title": {
                    "text": "Average Rating"
                  }
                }
              }
            }
          },
          "metadata": {},
          "output_type": "display_data"
        }
      ],
      "source": [
        "#group data by year and claculate the average rating\n",
        "avg_data_by_year = movie_data.groupby(['Year', 'Genre'])['Rating'].mean().reset_index()\n",
        "\n",
        "#get the top 10 genre\n",
        "top_genre = movie_data['Genre'].value_counts().head(10).index\n",
        "\n",
        "#filter the data to include only the top 3 genre\n",
        "average_rating_by_genre = avg_data_by_year[avg_data_by_year['Genre'].isin(top_genre)]\n",
        "\n",
        "#create the plot with plotly express\n",
        "figure = px.line(average_rating_by_genre, x='Year', y='Rating', color='Genre',\n",
        "              title='Average Rating by Genre Over the Years',\n",
        "              labels={'Year': 'Release Year', 'Rating': 'Average Rating'})\n",
        "figure.update_layout(xaxis_title= 'Year', yaxis_title='Average Rating')\n",
        "figure.show()\n"
      ]
    },
    {
      "cell_type": "code",
      "execution_count": 27,
      "metadata": {
        "colab": {
          "base_uri": "https://localhost:8080/",
          "height": 542
        },
        "id": "A1zU7-ifbkMN",
        "outputId": "b74019ab-b61e-44cb-9cf2-91317ef247c1"
      },
      "outputs": [
        {
          "data": {
            "application/vnd.plotly.v1+json": {
              "config": {
                "plotlyServerURL": "https://plot.ly"
              },
              "data": [
                {
                  "bingroup": "x",
                  "histnorm": "probability density",
                  "hovertemplate": "Rating=%{x}<br>probability density=%{y}<extra></extra>",
                  "legendgroup": "",
                  "marker": {
                    "color": "#636efa",
                    "pattern": {
                      "shape": ""
                    }
                  },
                  "name": "",
                  "nbinsx": 30,
                  "orientation": "v",
                  "showlegend": false,
                  "type": "histogram",
                  "x": {
                    "bdata": "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",
                    "dtype": "f8"
                  },
                  "xaxis": "x",
                  "yaxis": "y"
                }
              ],
              "layout": {
                "bargap": 0.02,
                "barmode": "relative",
                "legend": {
                  "tracegroupgap": 0
                },
                "template": {
                  "data": {
                    "bar": [
                      {
                        "error_x": {
                          "color": "#2a3f5f"
                        },
                        "error_y": {
                          "color": "#2a3f5f"
                        },
                        "marker": {
                          "line": {
                            "color": "#E5ECF6",
                            "width": 0.5
                          },
                          "pattern": {
                            "fillmode": "overlay",
                            "size": 10,
                            "solidity": 0.2
                          }
                        },
                        "type": "bar"
                      }
                    ],
                    "barpolar": [
                      {
                        "marker": {
                          "line": {
                            "color": "#E5ECF6",
                            "width": 0.5
                          },
                          "pattern": {
                            "fillmode": "overlay",
                            "size": 10,
                            "solidity": 0.2
                          }
                        },
                        "type": "barpolar"
                      }
                    ],
                    "carpet": [
                      {
                        "aaxis": {
                          "endlinecolor": "#2a3f5f",
                          "gridcolor": "white",
                          "linecolor": "white",
                          "minorgridcolor": "white",
                          "startlinecolor": "#2a3f5f"
                        },
                        "baxis": {
                          "endlinecolor": "#2a3f5f",
                          "gridcolor": "white",
                          "linecolor": "white",
                          "minorgridcolor": "white",
                          "startlinecolor": "#2a3f5f"
                        },
                        "type": "carpet"
                      }
                    ],
                    "choropleth": [
                      {
                        "colorbar": {
                          "outlinewidth": 0,
                          "ticks": ""
                        },
                        "type": "choropleth"
                      }
                    ],
                    "contour": [
                      {
                        "colorbar": {
                          "outlinewidth": 0,
                          "ticks": ""
                        },
                        "colorscale": [
                          [
                            0,
                            "#0d0887"
                          ],
                          [
                            0.1111111111111111,
                            "#46039f"
                          ],
                          [
                            0.2222222222222222,
                            "#7201a8"
                          ],
                          [
                            0.3333333333333333,
                            "#9c179e"
                          ],
                          [
                            0.4444444444444444,
                            "#bd3786"
                          ],
                          [
                            0.5555555555555556,
                            "#d8576b"
                          ],
                          [
                            0.6666666666666666,
                            "#ed7953"
                          ],
                          [
                            0.7777777777777778,
                            "#fb9f3a"
                          ],
                          [
                            0.8888888888888888,
                            "#fdca26"
                          ],
                          [
                            1,
                            "#f0f921"
                          ]
                        ],
                        "type": "contour"
                      }
                    ],
                    "contourcarpet": [
                      {
                        "colorbar": {
                          "outlinewidth": 0,
                          "ticks": ""
                        },
                        "type": "contourcarpet"
                      }
                    ],
                    "heatmap": [
                      {
                        "colorbar": {
                          "outlinewidth": 0,
                          "ticks": ""
                        },
                        "colorscale": [
                          [
                            0,
                            "#0d0887"
                          ],
                          [
                            0.1111111111111111,
                            "#46039f"
                          ],
                          [
                            0.2222222222222222,
                            "#7201a8"
                          ],
                          [
                            0.3333333333333333,
                            "#9c179e"
                          ],
                          [
                            0.4444444444444444,
                            "#bd3786"
                          ],
                          [
                            0.5555555555555556,
                            "#d8576b"
                          ],
                          [
                            0.6666666666666666,
                            "#ed7953"
                          ],
                          [
                            0.7777777777777778,
                            "#fb9f3a"
                          ],
                          [
                            0.8888888888888888,
                            "#fdca26"
                          ],
                          [
                            1,
                            "#f0f921"
                          ]
                        ],
                        "type": "heatmap"
                      }
                    ],
                    "histogram": [
                      {
                        "marker": {
                          "pattern": {
                            "fillmode": "overlay",
                            "size": 10,
                            "solidity": 0.2
                          }
                        },
                        "type": "histogram"
                      }
                    ],
                    "histogram2d": [
                      {
                        "colorbar": {
                          "outlinewidth": 0,
                          "ticks": ""
                        },
                        "colorscale": [
                          [
                            0,
                            "#0d0887"
                          ],
                          [
                            0.1111111111111111,
                            "#46039f"
                          ],
                          [
                            0.2222222222222222,
                            "#7201a8"
                          ],
                          [
                            0.3333333333333333,
                            "#9c179e"
                          ],
                          [
                            0.4444444444444444,
                            "#bd3786"
                          ],
                          [
                            0.5555555555555556,
                            "#d8576b"
                          ],
                          [
                            0.6666666666666666,
                            "#ed7953"
                          ],
                          [
                            0.7777777777777778,
                            "#fb9f3a"
                          ],
                          [
                            0.8888888888888888,
                            "#fdca26"
                          ],
                          [
                            1,
                            "#f0f921"
                          ]
                        ],
                        "type": "histogram2d"
                      }
                    ],
                    "histogram2dcontour": [
                      {
                        "colorbar": {
                          "outlinewidth": 0,
                          "ticks": ""
                        },
                        "colorscale": [
                          [
                            0,
                            "#0d0887"
                          ],
                          [
                            0.1111111111111111,
                            "#46039f"
                          ],
                          [
                            0.2222222222222222,
                            "#7201a8"
                          ],
                          [
                            0.3333333333333333,
                            "#9c179e"
                          ],
                          [
                            0.4444444444444444,
                            "#bd3786"
                          ],
                          [
                            0.5555555555555556,
                            "#d8576b"
                          ],
                          [
                            0.6666666666666666,
                            "#ed7953"
                          ],
                          [
                            0.7777777777777778,
                            "#fb9f3a"
                          ],
                          [
                            0.8888888888888888,
                            "#fdca26"
                          ],
                          [
                            1,
                            "#f0f921"
                          ]
                        ],
                        "type": "histogram2dcontour"
                      }
                    ],
                    "mesh3d": [
                      {
                        "colorbar": {
                          "outlinewidth": 0,
                          "ticks": ""
                        },
                        "type": "mesh3d"
                      }
                    ],
                    "parcoords": [
                      {
                        "line": {
                          "colorbar": {
                            "outlinewidth": 0,
                            "ticks": ""
                          }
                        },
                        "type": "parcoords"
                      }
                    ],
                    "pie": [
                      {
                        "automargin": true,
                        "type": "pie"
                      }
                    ],
                    "scatter": [
                      {
                        "fillpattern": {
                          "fillmode": "overlay",
                          "size": 10,
                          "solidity": 0.2
                        },
                        "type": "scatter"
                      }
                    ],
                    "scatter3d": [
                      {
                        "line": {
                          "colorbar": {
                            "outlinewidth": 0,
                            "ticks": ""
                          }
                        },
                        "marker": {
                          "colorbar": {
                            "outlinewidth": 0,
                            "ticks": ""
                          }
                        },
                        "type": "scatter3d"
                      }
                    ],
                    "scattercarpet": [
                      {
                        "marker": {
                          "colorbar": {
                            "outlinewidth": 0,
                            "ticks": ""
                          }
                        },
                        "type": "scattercarpet"
                      }
                    ],
                    "scattergeo": [
                      {
                        "marker": {
                          "colorbar": {
                            "outlinewidth": 0,
                            "ticks": ""
                          }
                        },
                        "type": "scattergeo"
                      }
                    ],
                    "scattergl": [
                      {
                        "marker": {
                          "colorbar": {
                            "outlinewidth": 0,
                            "ticks": ""
                          }
                        },
                        "type": "scattergl"
                      }
                    ],
                    "scattermap": [
                      {
                        "marker": {
                          "colorbar": {
                            "outlinewidth": 0,
                            "ticks": ""
                          }
                        },
                        "type": "scattermap"
                      }
                    ],
                    "scattermapbox": [
                      {
                        "marker": {
                          "colorbar": {
                            "outlinewidth": 0,
                            "ticks": ""
                          }
                        },
                        "type": "scattermapbox"
                      }
                    ],
                    "scatterpolar": [
                      {
                        "marker": {
                          "colorbar": {
                            "outlinewidth": 0,
                            "ticks": ""
                          }
                        },
                        "type": "scatterpolar"
                      }
                    ],
                    "scatterpolargl": [
                      {
                        "marker": {
                          "colorbar": {
                            "outlinewidth": 0,
                            "ticks": ""
                          }
                        },
                        "type": "scatterpolargl"
                      }
                    ],
                    "scatterternary": [
                      {
                        "marker": {
                          "colorbar": {
                            "outlinewidth": 0,
                            "ticks": ""
                          }
                        },
                        "type": "scatterternary"
                      }
                    ],
                    "surface": [
                      {
                        "colorbar": {
                          "outlinewidth": 0,
                          "ticks": ""
                        },
                        "colorscale": [
                          [
                            0,
                            "#0d0887"
                          ],
                          [
                            0.1111111111111111,
                            "#46039f"
                          ],
                          [
                            0.2222222222222222,
                            "#7201a8"
                          ],
                          [
                            0.3333333333333333,
                            "#9c179e"
                          ],
                          [
                            0.4444444444444444,
                            "#bd3786"
                          ],
                          [
                            0.5555555555555556,
                            "#d8576b"
                          ],
                          [
                            0.6666666666666666,
                            "#ed7953"
                          ],
                          [
                            0.7777777777777778,
                            "#fb9f3a"
                          ],
                          [
                            0.8888888888888888,
                            "#fdca26"
                          ],
                          [
                            1,
                            "#f0f921"
                          ]
                        ],
                        "type": "surface"
                      }
                    ],
                    "table": [
                      {
                        "cells": {
                          "fill": {
                            "color": "#EBF0F8"
                          },
                          "line": {
                            "color": "white"
                          }
                        },
                        "header": {
                          "fill": {
                            "color": "#C8D4E3"
                          },
                          "line": {
                            "color": "white"
                          }
                        },
                        "type": "table"
                      }
                    ]
                  },
                  "layout": {
                    "annotationdefaults": {
                      "arrowcolor": "#2a3f5f",
                      "arrowhead": 0,
                      "arrowwidth": 1
                    },
                    "autotypenumbers": "strict",
                    "coloraxis": {
                      "colorbar": {
                        "outlinewidth": 0,
                        "ticks": ""
                      }
                    },
                    "colorscale": {
                      "diverging": [
                        [
                          0,
                          "#8e0152"
                        ],
                        [
                          0.1,
                          "#c51b7d"
                        ],
                        [
                          0.2,
                          "#de77ae"
                        ],
                        [
                          0.3,
                          "#f1b6da"
                        ],
                        [
                          0.4,
                          "#fde0ef"
                        ],
                        [
                          0.5,
                          "#f7f7f7"
                        ],
                        [
                          0.6,
                          "#e6f5d0"
                        ],
                        [
                          0.7,
                          "#b8e186"
                        ],
                        [
                          0.8,
                          "#7fbc41"
                        ],
                        [
                          0.9,
                          "#4d9221"
                        ],
                        [
                          1,
                          "#276419"
                        ]
                      ],
                      "sequential": [
                        [
                          0,
                          "#0d0887"
                        ],
                        [
                          0.1111111111111111,
                          "#46039f"
                        ],
                        [
                          0.2222222222222222,
                          "#7201a8"
                        ],
                        [
                          0.3333333333333333,
                          "#9c179e"
                        ],
                        [
                          0.4444444444444444,
                          "#bd3786"
                        ],
                        [
                          0.5555555555555556,
                          "#d8576b"
                        ],
                        [
                          0.6666666666666666,
                          "#ed7953"
                        ],
                        [
                          0.7777777777777778,
                          "#fb9f3a"
                        ],
                        [
                          0.8888888888888888,
                          "#fdca26"
                        ],
                        [
                          1,
                          "#f0f921"
                        ]
                      ],
                      "sequentialminus": [
                        [
                          0,
                          "#0d0887"
                        ],
                        [
                          0.1111111111111111,
                          "#46039f"
                        ],
                        [
                          0.2222222222222222,
                          "#7201a8"
                        ],
                        [
                          0.3333333333333333,
                          "#9c179e"
                        ],
                        [
                          0.4444444444444444,
                          "#bd3786"
                        ],
                        [
                          0.5555555555555556,
                          "#d8576b"
                        ],
                        [
                          0.6666666666666666,
                          "#ed7953"
                        ],
                        [
                          0.7777777777777778,
                          "#fb9f3a"
                        ],
                        [
                          0.8888888888888888,
                          "#fdca26"
                        ],
                        [
                          1,
                          "#f0f921"
                        ]
                      ]
                    },
                    "colorway": [
                      "#636efa",
                      "#EF553B",
                      "#00cc96",
                      "#ab63fa",
                      "#FFA15A",
                      "#19d3f3",
                      "#FF6692",
                      "#B6E880",
                      "#FF97FF",
                      "#FECB52"
                    ],
                    "font": {
                      "color": "#2a3f5f"
                    },
                    "geo": {
                      "bgcolor": "white",
                      "lakecolor": "white",
                      "landcolor": "#E5ECF6",
                      "showlakes": true,
                      "showland": true,
                      "subunitcolor": "white"
                    },
                    "hoverlabel": {
                      "align": "left"
                    },
                    "hovermode": "closest",
                    "mapbox": {
                      "style": "light"
                    },
                    "paper_bgcolor": "white",
                    "plot_bgcolor": "#E5ECF6",
                    "polar": {
                      "angularaxis": {
                        "gridcolor": "white",
                        "linecolor": "white",
                        "ticks": ""
                      },
                      "bgcolor": "#E5ECF6",
                      "radialaxis": {
                        "gridcolor": "white",
                        "linecolor": "white",
                        "ticks": ""
                      }
                    },
                    "scene": {
                      "xaxis": {
                        "backgroundcolor": "#E5ECF6",
                        "gridcolor": "white",
                        "gridwidth": 2,
                        "linecolor": "white",
                        "showbackground": true,
                        "ticks": "",
                        "zerolinecolor": "white"
                      },
                      "yaxis": {
                        "backgroundcolor": "#E5ECF6",
                        "gridcolor": "white",
                        "gridwidth": 2,
                        "linecolor": "white",
                        "showbackground": true,
                        "ticks": "",
                        "zerolinecolor": "white"
                      },
                      "zaxis": {
                        "backgroundcolor": "#E5ECF6",
                        "gridcolor": "white",
                        "gridwidth": 2,
                        "linecolor": "white",
                        "showbackground": true,
                        "ticks": "",
                        "zerolinecolor": "white"
                      }
                    },
                    "shapedefaults": {
                      "line": {
                        "color": "#2a3f5f"
                      }
                    },
                    "ternary": {
                      "aaxis": {
                        "gridcolor": "white",
                        "linecolor": "white",
                        "ticks": ""
                      },
                      "baxis": {
                        "gridcolor": "white",
                        "linecolor": "white",
                        "ticks": ""
                      },
                      "bgcolor": "#E5ECF6",
                      "caxis": {
                        "gridcolor": "white",
                        "linecolor": "white",
                        "ticks": ""
                      }
                    },
                    "title": {
                      "x": 0.05
                    },
                    "xaxis": {
                      "automargin": true,
                      "gridcolor": "white",
                      "linecolor": "white",
                      "ticks": "",
                      "title": {
                        "standoff": 15
                      },
                      "zerolinecolor": "white",
                      "zerolinewidth": 2
                    },
                    "yaxis": {
                      "automargin": true,
                      "gridcolor": "white",
                      "linecolor": "white",
                      "ticks": "",
                      "title": {
                        "standoff": 15
                      },
                      "zerolinecolor": "white",
                      "zerolinewidth": 2
                    }
                  }
                },
                "title": {
                  "text": "Histogram of Movie Ratings (Density)"
                },
                "xaxis": {
                  "anchor": "y",
                  "domain": [
                    0,
                    1
                  ],
                  "title": {
                    "text": "Rating"
                  }
                },
                "yaxis": {
                  "anchor": "x",
                  "domain": [
                    0,
                    1
                  ],
                  "title": {
                    "text": "probability density"
                  }
                }
              }
            }
          },
          "metadata": {},
          "output_type": "display_data"
        }
      ],
      "source": [
        "#histogram of distribution of rating and its probable density\n",
        "rating_figure = px.histogram(movie_data, x='Rating', histnorm='probability density',\n",
        "                          nbins=30, title='Histogram of Movie Ratings (Density)',\n",
        "                          labels={'Rating': 'Rating'})\n",
        "rating_figure.update_layout(bargap=0.02)\n",
        "rating_figure.show()"
      ]
    },
    {
      "cell_type": "markdown",
      "metadata": {
        "id": "p3n1tOm3dCSh"
      },
      "source": [
        "Model Building"
      ]
    },
    {
      "cell_type": "code",
      "execution_count": 28,
      "metadata": {
        "id": "JalDqgDKdFKy"
      },
      "outputs": [],
      "source": [
        "#import required laibraries for model training\n",
        "from sklearn.model_selection import train_test_split\n",
        "from sklearn.linear_model import LinearRegression\n",
        "from sklearn.metrics import accuracy_score, mean_absolute_error,mean_squared_error,r2_score"
      ]
    },
    {
      "cell_type": "code",
      "execution_count": 29,
      "metadata": {
        "id": "AFj9VwZ9ePHW"
      },
      "outputs": [],
      "source": [
        "#to drop \"Name\" column as it dosen't affect the output\n",
        "movie_data.drop('Name', axis=1, inplace=True)"
      ]
    },
    {
      "cell_type": "code",
      "execution_count": 30,
      "metadata": {
        "id": "V7PAaNd_e2YC"
      },
      "outputs": [],
      "source": [
        "# Grouping the columns with their average rating and then creating a new feature\n",
        "genre_mean_rating = movie_data.groupby('Genre')['Rating'].transform('mean')\n",
        "movie_data['Genre_mean_rating'] = genre_mean_rating\n",
        "\n",
        "director_mean_rating = movie_data.groupby('Director')['Rating'].transform('mean')\n",
        "movie_data['Director_encoded'] = director_mean_rating\n",
        "\n",
        "actor1_mean_rating = movie_data.groupby('Actor 1')['Rating'].transform('mean')\n",
        "movie_data['Actor1_encoded']= actor1_mean_rating\n",
        "\n",
        "actor2_mean_rating = movie_data.groupby('Actor 2')['Rating'].transform('mean')\n",
        "movie_data['Actor2_encoded']= actor2_mean_rating\n",
        "\n",
        "actor3_mean_rating = movie_data.groupby('Actor 3')['Rating'].transform('mean')\n",
        "movie_data['Actor3_encoded'] = actor3_mean_rating"
      ]
    },
    {
      "cell_type": "code",
      "execution_count": 31,
      "metadata": {
        "id": "yh9KrTULhlIw"
      },
      "outputs": [],
      "source": [
        "#to keep predictor and target variable\n",
        "x= movie_data[['Year', 'Votes', 'Duration', 'Genre_mean_rating', 'Director_encoded', 'Actor1_encoded', 'Actor2_encoded', 'Actor3_encoded']]\n",
        "y= movie_data['Rating']"
      ]
    },
    {
      "cell_type": "code",
      "execution_count": 32,
      "metadata": {
        "id": "5_UsyhDHiOES"
      },
      "outputs": [],
      "source": [
        "#Splitting the training and testing data\n",
        "from sklearn.model_selection import train_test_split\n",
        "x_train, x_test, y_train, y_test = train_test_split(x, y, test_size=0.2, random_state=42)"
      ]
    },
    {
      "cell_type": "code",
      "execution_count": 33,
      "metadata": {
        "id": "yYqeH4tpkdRr"
      },
      "outputs": [],
      "source": [
        "from sklearn.linear_model import LinearRegression\n",
        "\n",
        "# Create and train the model\n",
        "model = LinearRegression()\n",
        "model.fit(x_train, y_train)\n",
        "\n",
        "# Make predictions\n",
        "model_prediction = model.predict(x_test)\n"
      ]
    },
    {
      "cell_type": "code",
      "execution_count": 34,
      "metadata": {
        "colab": {
          "base_uri": "https://localhost:8080/"
        },
        "id": "dlseJvlslEPN",
        "outputId": "d9361b7d-c1bd-467c-b29a-5445a535509a"
      },
      "outputs": [
        {
          "name": "stdout",
          "output_type": "stream",
          "text": [
            "The performance of model:- \n",
            "Mean Absolute Error: 0.4921902540765641\n",
            "Mean Squared Error: 0.4465441653985704\n",
            "r2 Score: 0.7641133663863862\n"
          ]
        }
      ],
      "source": [
        "#evaluating the performance of model and evaluation metrics\n",
        "from sklearn.metrics import accuracy_score, mean_absolute_error,mean_squared_error,r2_score\n",
        "print(\"The performance of model:- \")\n",
        "print(\"Mean Absolute Error:\", mean_absolute_error(y_test, model_prediction))\n",
        "print(\"Mean Squared Error:\", mean_squared_error(y_test, model_prediction))\n",
        "print(\"r2 Score:\", r2_score(y_test, model_prediction))"
      ]
    },
    {
      "cell_type": "code",
      "execution_count": 35,
      "metadata": {
        "colab": {
          "base_uri": "https://localhost:8080/",
          "height": 226
        },
        "id": "WSBPv0RWm3wX",
        "outputId": "0fd5803c-af82-4a89-b872-a6bdb0de808b"
      },
      "outputs": [
        {
          "data": {
            "text/html": [
              "<div>\n",
              "<style scoped>\n",
              "    .dataframe tbody tr th:only-of-type {\n",
              "        vertical-align: middle;\n",
              "    }\n",
              "\n",
              "    .dataframe tbody tr th {\n",
              "        vertical-align: top;\n",
              "    }\n",
              "\n",
              "    .dataframe thead th {\n",
              "        text-align: right;\n",
              "    }\n",
              "</style>\n",
              "<table border=\"1\" class=\"dataframe\">\n",
              "  <thead>\n",
              "    <tr style=\"text-align: right;\">\n",
              "      <th></th>\n",
              "      <th>Year</th>\n",
              "      <th>Votes</th>\n",
              "      <th>Duration</th>\n",
              "      <th>Genre_mean_rating</th>\n",
              "      <th>Director_encoded</th>\n",
              "      <th>Actor1_encoded</th>\n",
              "      <th>Actor2_encoded</th>\n",
              "      <th>Actor3_encoded</th>\n",
              "    </tr>\n",
              "  </thead>\n",
              "  <tbody>\n",
              "    <tr>\n",
              "      <th>1</th>\n",
              "      <td>2019</td>\n",
              "      <td>8</td>\n",
              "      <td>109</td>\n",
              "      <td>6.056744</td>\n",
              "      <td>7.000000</td>\n",
              "      <td>6.850000</td>\n",
              "      <td>7.00</td>\n",
              "      <td>7.00</td>\n",
              "    </tr>\n",
              "    <tr>\n",
              "      <th>3</th>\n",
              "      <td>2019</td>\n",
              "      <td>35</td>\n",
              "      <td>110</td>\n",
              "      <td>5.751042</td>\n",
              "      <td>4.400000</td>\n",
              "      <td>5.250000</td>\n",
              "      <td>4.40</td>\n",
              "      <td>4.46</td>\n",
              "    </tr>\n",
              "    <tr>\n",
              "      <th>3</th>\n",
              "      <td>2019</td>\n",
              "      <td>35</td>\n",
              "      <td>110</td>\n",
              "      <td>5.811087</td>\n",
              "      <td>4.400000</td>\n",
              "      <td>5.250000</td>\n",
              "      <td>4.40</td>\n",
              "      <td>4.46</td>\n",
              "    </tr>\n",
              "    <tr>\n",
              "      <th>5</th>\n",
              "      <td>1997</td>\n",
              "      <td>827</td>\n",
              "      <td>147</td>\n",
              "      <td>5.751042</td>\n",
              "      <td>5.335135</td>\n",
              "      <td>4.793617</td>\n",
              "      <td>5.73</td>\n",
              "      <td>5.93</td>\n",
              "    </tr>\n",
              "    <tr>\n",
              "      <th>5</th>\n",
              "      <td>1997</td>\n",
              "      <td>827</td>\n",
              "      <td>147</td>\n",
              "      <td>6.056744</td>\n",
              "      <td>5.335135</td>\n",
              "      <td>4.793617</td>\n",
              "      <td>5.73</td>\n",
              "      <td>5.93</td>\n",
              "    </tr>\n",
              "  </tbody>\n",
              "</table>\n",
              "</div>"
            ],
            "text/plain": [
              "   Year  Votes  Duration  Genre_mean_rating  Director_encoded  Actor1_encoded  \\\n",
              "1  2019      8       109           6.056744          7.000000        6.850000   \n",
              "3  2019     35       110           5.751042          4.400000        5.250000   \n",
              "3  2019     35       110           5.811087          4.400000        5.250000   \n",
              "5  1997    827       147           5.751042          5.335135        4.793617   \n",
              "5  1997    827       147           6.056744          5.335135        4.793617   \n",
              "\n",
              "   Actor2_encoded  Actor3_encoded  \n",
              "1            7.00            7.00  \n",
              "3            4.40            4.46  \n",
              "3            4.40            4.46  \n",
              "5            5.73            5.93  \n",
              "5            5.73            5.93  "
            ]
          },
          "execution_count": 35,
          "metadata": {},
          "output_type": "execute_result"
        }
      ],
      "source": [
        "x.head()"
      ]
    },
    {
      "cell_type": "code",
      "execution_count": 36,
      "metadata": {
        "colab": {
          "base_uri": "https://localhost:8080/",
          "height": 241
        },
        "id": "atM5mhvgnAfH",
        "outputId": "fe81719e-1fef-454b-d6ec-b283582b59c0"
      },
      "outputs": [
        {
          "data": {
            "text/plain": [
              "1    7.0\n",
              "3    4.4\n",
              "3    4.4\n",
              "5    4.7\n",
              "5    4.7\n",
              "Name: Rating, dtype: float64"
            ]
          },
          "execution_count": 36,
          "metadata": {},
          "output_type": "execute_result"
        }
      ],
      "source": [
        "y.head()"
      ]
    },
    {
      "cell_type": "code",
      "execution_count": 37,
      "metadata": {
        "id": "GihzrvU-nP4J"
      },
      "outputs": [],
      "source": [
        "#for testing we are creating a dataframe\n",
        "data = {'Year':[2019],'Votes':[36],'Duration':[111],'Genre_mean_rating':[5.8],'Director_encoded':[4.5],'Actor1_encoded':[5.3],'Actor2_encoded':[4.5],'Actor3_encoded':[4.5]}\n",
        "input_data = pd.DataFrame(data)\n"
      ]
    },
    {
      "cell_type": "code",
      "execution_count": 38,
      "metadata": {
        "colab": {
          "base_uri": "https://localhost:8080/"
        },
        "id": "F8Aek2jkpFUX",
        "outputId": "9bc6e10a-1c63-45ae-b635-7e302e89333e"
      },
      "outputs": [
        {
          "name": "stdout",
          "output_type": "stream",
          "text": [
            "Predicted Rating: 4.2074589621343295\n"
          ]
        }
      ],
      "source": [
        "#predict the movie rating by entered data\n",
        "rating_pre = model.predict(input_data)\n",
        "print(\"Predicted Rating:\", rating_pre[0])"
      ]
    }
  ],
  "metadata": {
    "colab": {
      "provenance": []
    },
    "kernelspec": {
      "display_name": "Python 3",
      "name": "python3"
    },
    "language_info": {
      "codemirror_mode": {
        "name": "ipython",
        "version": 3
      },
      "file_extension": ".py",
      "mimetype": "text/x-python",
      "name": "python",
      "nbconvert_exporter": "python",
      "pygments_lexer": "ipython3",
      "version": "3.13.2"
    }
  },
  "nbformat": 4,
  "nbformat_minor": 0
}
